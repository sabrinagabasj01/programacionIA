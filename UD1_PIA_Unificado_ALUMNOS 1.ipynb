{
 "cells": [
  {
   "cell_type": "markdown",
   "id": "b9d2e3ec",
   "metadata": {},
   "source": [
    "# Fundamentos de Python — PIA1 · PIA2 · PIA3 · PIA4\n",
    "**Fecha:** 07/10/2025\n",
    "\n",
    "**Profesor**: Carlos Hidalgo\n",
    "\n",
    "**Alumn@**: Sabrina Gabás Jiménez\n",
    "\n",
    "Este cuaderno integra cuatro bloques en orden. Cada sección incluye una breve descripción y el código original comentado instrucción por instrucción."
   ]
  },
  {
   "cell_type": "markdown",
   "id": "493bad3d",
   "metadata": {},
   "source": [
    "## Parte 0\n",
    "\n",
    "Ejemplo de **Markdown**"
   ]
  },
  {
   "cell_type": "markdown",
   "id": "71f89096",
   "metadata": {},
   "source": [
    "## Parte I\n",
    "**Bloques de teoría y práctica.**"
   ]
  },
  {
   "cell_type": "markdown",
   "id": "0392d6cb",
   "metadata": {},
   "source": [
    "**Contenidos del bloque:**\n",
    "- Prueba 01\n",
    "- 1. Comentarios\n",
    "- 2. Instrucción Print\n",
    "- 2. Símbolos reservados\n",
    "- 3. Input\n",
    "- 4. Variables y tipos de datos\n",
    "- Tipos de datos\n",
    "- string       (str)     --> \"¡Hola IA! Soy 1 string.\"\n",
    "- integer      (int)     --> 1, 13, 42, -3\n",
    "- float        (float)   --> 1.25, 13.0, 42.001, -3.858\n",
    "- listas       (list)    --> [\"sal\", \"pimienta\", 8, 8.8]\n",
    "- diccionarios (dic)     --> {'color':'rojo', 'planeta':'marte'}\n",
    "- tuplas       (tuple)   --> ('do', 're', 'mi', 'fa', 'sol')\n",
    "- sets         (set)     --> {'Tesla', 'Mercedes', 'Audi', 'Toyota', 'Seat'}\n",
    "- booleanos    (bool)    --> true, false\n",
    "- 5. Formatear Strings\n",
    "- 6. Tipo de dato\n",
    "- 7. Formatear cadenas"
   ]
  },
  {
   "cell_type": "markdown",
   "id": "1fc18608",
   "metadata": {},
   "source": [
    "### 1. Comentarios\n",
    "Bloque de práctica y ejemplos."
   ]
  },
  {
   "cell_type": "code",
   "execution_count": null,
   "id": "4bc57f69",
   "metadata": {},
   "outputs": [],
   "source": [
    "# Hola, soy un comentario."
   ]
  },
  {
   "cell_type": "markdown",
   "id": "998c913c",
   "metadata": {},
   "source": [
    "### 2. Instrucción Print\n",
    "Salida por pantalla con `print()` • Uso de colecciones (listas, diccionarios, tuplas)"
   ]
  },
  {
   "cell_type": "code",
   "execution_count": 8,
   "id": "52d43f7f",
   "metadata": {},
   "outputs": [
    {
     "name": "stdout",
     "output_type": "stream",
     "text": [
      "¡Hola PIA!\n"
     ]
    }
   ],
   "source": [
    "# Utilizaré print para mostrar datos por pantalla\n",
    "# Si quiero cambiar el intérprete de Python, pulsaré CTRL + Shift + P\n",
    "print(\"¡Hola PIA!\")\n"
   ]
  },
  {
   "cell_type": "markdown",
   "id": "f8541103",
   "metadata": {},
   "source": [
    "### 3. Símbolos reservados\n",
    "Salida por pantalla con `print()` • Uso de colecciones (listas, diccionarios, tuplas)"
   ]
  },
  {
   "cell_type": "code",
   "execution_count": 9,
   "id": "32cc1522",
   "metadata": {},
   "outputs": [
    {
     "name": "stdout",
     "output_type": "stream",
     "text": [
      "¡Hola\n",
      "\tPIA!\n",
      "¡Hola \"PIA\"!\n",
      "¡Hola \"PIA\"!\n"
     ]
    }
   ],
   "source": [
    "print(\"¡Hola\\n\\tPIA!\")\n",
    "print(\"¡Hola \\\"PIA\\\"!\")\n",
    "print('¡Hola \"PIA\"!')"
   ]
  },
  {
   "attachments": {
    "image.png": {
     "image/png": "[encoded data removed]"
    }
   },
   "cell_type": "markdown",
   "id": "f7059a64",
   "metadata": {},
   "source": [
    "### Examen de mentira 01\n",
    "Salida por pantalla con `print()` • Uso de colecciones (listas, diccionarios, tuplas)\n",
    "\n",
    "![image.png](attachment:image.png)"
   ]
  },
  {
   "cell_type": "code",
   "execution_count": 10,
   "id": "ce198bf6",
   "metadata": {},
   "outputs": [
    {
     "name": "stdout",
     "output_type": "stream",
     "text": [
      "\"¡Ja,\n",
      "\tja,\n",
      "\t\tja!\"\n"
     ]
    }
   ],
   "source": [
    "print(\"\\\"¡Ja,\\n\\tja,\\n\\t\\tja!\\\"\")"
   ]
  },
  {
   "cell_type": "markdown",
   "id": "4c3178b9",
   "metadata": {},
   "source": [
    "### 3. Input\n"
   ]
  },
  {
   "cell_type": "code",
   "execution_count": null,
   "id": "e9ab5cc6",
   "metadata": {},
   "outputs": [
    {
     "name": "stdout",
     "output_type": "stream",
     "text": [
      "Toñito\n",
      "50\n"
     ]
    }
   ],
   "source": [
    "\n",
    "# Vamos a solicitar al usuario información\n",
    "#quien = input(\"¿Quién soltó a los perros?\")\n",
    "# Mostrar por pantalla el resultado\n",
    "#print(quien)\n",
    "# Mostrar el input directamente con el print\n",
    "print(input(\"¿Qué pie calzas?\"))"
   ]
  },
  {
   "cell_type": "code",
   "execution_count": 18,
   "id": "42abcb31",
   "metadata": {},
   "outputs": [
    {
     "name": "stdout",
     "output_type": "stream",
     "text": [
      "<class 'str'>\n",
      "<class 'int'>\n",
      "En 10 años tendrás: 20\n"
     ]
    }
   ],
   "source": [
    "edad = input(\"¿Cuántos años tienes?\")\n",
    "print(type(edad))\n",
    "print(type(int(edad)))\n",
    "print(\"En 10 años tendrás: \" + str(int(edad) + 10))\n"
   ]
  },
  {
   "attachments": {
    "image.png": {
     "image/png": "[encoded data removed]"
    }
   },
   "cell_type": "markdown",
   "id": "0ca3081a",
   "metadata": {},
   "source": [
    "### Examen de mentira 02\n",
    "\n",
    "![image.png](attachment:image.png)"
   ]
  },
  {
   "cell_type": "code",
   "execution_count": 5,
   "id": "787bd226",
   "metadata": {},
   "outputs": [
    {
     "name": "stdout",
     "output_type": "stream",
     "text": [
      "<class 'str'> <class 'str'> <class 'int'> <class 'str'>\n",
      "¡He ganado la lotería!\n",
      "¡Me han tocado 42 millones de €!\n",
      "¡Me compraré un Fiat Multipla y una casa en Castro urdiales.\n",
      "<class 'str'>\n",
      "<class 'int'>\n"
     ]
    }
   ],
   "source": [
    "# Solicitamos al usuario el nombre de su coche favorito\n",
    "coche = input(\"¿Cuál es tu coche favorito? \")\n",
    "# Solicitamos al usuario el nombre de su lugar favorito\n",
    "lugar = input(\"¿Cuál es tu lugar favorito?\")\n",
    "# Solicitamos al usuario su número favorito\n",
    "numero = int(input(\"¿Cuál es tu número favorito?\"))\n",
    "numero_2 = str(8)\n",
    "print(type(coche), type(lugar), type(numero), type(numero_2))\n",
    "# Muestra por pantalla: \"¡He ganado la lotería! \"\n",
    "print(\"¡He ganado la lotería!\\n¡Me han tocado \" + str(numero) + \" millones de €!\\n¡Me compraré un \" + coche + \" y una casa en \" + lugar + \".\")\n",
    "# Muestra información por pantalla.\n",
    "print(type(coche))\n",
    "# Muestra información por pantalla.\n",
    "print(type(numero))\n"
   ]
  },
  {
   "cell_type": "markdown",
   "id": "dff6ba46",
   "metadata": {},
   "source": [
    "### 4. Variables y tipos de datos\n"
   ]
  },
  {
   "cell_type": "markdown",
   "id": "1f926d3d",
   "metadata": {},
   "source": [
    "### Tipos de datos"
   ]
  },
  {
   "cell_type": "code",
   "execution_count": null,
   "id": "b2379485",
   "metadata": {},
   "outputs": [],
   "source": [
    "#  Tipos de datos\n",
    "# string       (str)     --> \"¡Hola IA! Soy 1 string.\"\n",
    "# integer      (int)     --> 1, 13, 42, -3\n",
    "# float        (float)   --> 1.25, 13.0, 42.001, -3.858\n",
    "# listas       (list)    --> [\"sal\", \"pimienta\", 8, 8.8]\n",
    "# diccionarios (dic)     --> {'color':'rojo', 'planeta':'marte'}\n",
    "# tuplas       (tuple)   --> ('do', 're', 'mi', 'fa', 'sol')\n",
    "# sets         (set)     --> {'Tesla', 'Mercedes', 'Audi', 'Toyota', 'Seat'}\n",
    "# booleanos    (bool)    --> true, false"
   ]
  },
  {
   "cell_type": "markdown",
   "id": "f5a273bd",
   "metadata": {},
   "source": [
    "### 5. Formatear Strings\n"
   ]
  },
  {
   "cell_type": "code",
   "execution_count": 12,
   "id": "85d778a0",
   "metadata": {},
   "outputs": [
    {
     "name": "stdout",
     "output_type": "stream",
     "text": [
      "Mi matrícula es: 7884JTW\n",
      "Mi matrícula es: 7884JTW\n",
      "Mi matrícula es: 7884JTW\n",
      "Una suma: 15768JTW\n"
     ]
    }
   ],
   "source": [
    "# Creo dos variables\n",
    "matricula_num = 7884\n",
    "matricula_let = \"JTW\"\n",
    "\n",
    "# Formato clásico\n",
    "print(\"Mi matrícula es: \" + str(matricula_num) + matricula_let)\n",
    "\n",
    "# Formato .format\n",
    "print(\"Mi matrícula es: {}{}\".format(matricula_num, matricula_let))\n",
    "\n",
    "# Formato f-string\n",
    "print(f\"Mi matrícula es: {matricula_num}{matricula_let}\")\n",
    "print(f\"Una suma: {matricula_num + matricula_num}{matricula_let}\")"
   ]
  },
  {
   "cell_type": "markdown",
   "id": "e5ef2b40",
   "metadata": {},
   "source": [
    "## Parte II\n",
    "**Bloques de teoría y práctica.**"
   ]
  },
  {
   "cell_type": "markdown",
   "id": "4ede179e",
   "metadata": {},
   "source": [
    "**Contenidos del bloque:**\n",
    "- Prueba 02\n",
    "- 1. Index\n",
    "- EXAMEN DE MENTIRA\n",
    "- Examen de mentira 02\n",
    "- 2. Strings y sus métodos\n",
    "- Examen de mentira\n",
    "- 4. Listas\n",
    "- Examen de Mentira\n",
    "- Añadir nuevo proyecto\n",
    "- Modificar el valor\n",
    "- Eliminar la clave \"nombre\"\n",
    "- Modificar el nombre de la clave sujetos por subjects"
   ]
  },
  {
   "cell_type": "markdown",
   "id": "a6c935bf",
   "metadata": {},
   "source": [
    "### Prueba 02\n"
   ]
  },
  {
   "cell_type": "markdown",
   "id": "4ac7e498",
   "metadata": {},
   "source": [
    "### 1. Index\n",
    "Índices de los strings (obtener y llamar)"
   ]
  },
  {
   "cell_type": "code",
   "execution_count": 31,
   "id": "e55bfc06",
   "metadata": {},
   "outputs": [
    {
     "name": "stdout",
     "output_type": "stream",
     "text": [
      "2\n",
      "6\n",
      "P\n",
      "PIA\n",
      "17\n",
      "17\n",
      "e\n",
      "lAo\n",
      "!esalc yah on yoH¡\n"
     ]
    }
   ],
   "source": [
    "# Creo una variable\n",
    "saludito = \"¡Hola PIA! ¡Hoy no hay clase!\"\n",
    "\n",
    "# Mostrar el índice (posición) de la primera letra \"o\"\n",
    "print(saludito.index(\"o\"))\n",
    "\n",
    "# Mostrar el índice donde comienza una subcadena (PIA) dentro del string\n",
    "print(saludito.index(\"PIA\"))\n",
    "\n",
    "# Mostrar el caracter que se encuentra en la posición 6 del string\n",
    "print(saludito[6])\n",
    "print(saludito[6:9])\n",
    "\n",
    "# Mostrar el índice (posición) de la última letra \"o\"\n",
    "print(saludito.rindex(\"o\"))\n",
    "\n",
    "# Mostrar el ínidice de la letra \"o\" entre las posiciones 3 y 15\n",
    "print(saludito.rindex(\"o\", 3, 18))\n",
    "\n",
    "# Mostrar el caracter que se encuentra en la segunda posición por la cola\n",
    "print(saludito[-2])\n",
    "\n",
    "# Mostrar substrigs entre dos posiciones y con un paso\n",
    "print(saludito[3:17:5])\n",
    "\n",
    "# Mostrar un string en orden inverso\n",
    "print(saludito[:10:-1])\n"
   ]
  },
  {
   "attachments": {
    "image.png": {
     "image/png": "[encoded data removed]"
    }
   },
   "cell_type": "markdown",
   "id": "a8c98f2d",
   "metadata": {},
   "source": [
    "### EXAMEN DE MENTIRA 03\n",
    "Obtén el siguiente resultado:\n",
    "\n",
    "![image.png](attachment:image.png)"
   ]
  },
  {
   "cell_type": "code",
   "execution_count": 36,
   "id": "4c2932df",
   "metadata": {},
   "outputs": [
    {
     "name": "stdout",
     "output_type": "stream",
     "text": [
      "En la frase La lección más importante en la programación de inteligencia artificial es, en la posición 15 encontramos la letra: i.\n",
      "Además, la palabra 'inteligencia', se encuentra en la posición: 48.\n",
      "Por otro lado, entre la posición 6 y 25, la primera letra 'a', se encuentra en la posición: 21.\n",
      "Finalmente, la última 'a', se encuentra en la posición: 69.\n"
     ]
    }
   ],
   "source": [
    "# Asignación de valor a una variable.\n",
    "frase = \"La lección más importante en la programación de inteligencia artificial es\"\n",
    "# Muestra información por pantalla.\n",
    "print(f\"En la frase {frase}, en la posición 15 encontramos la letra: {frase[15]}.\")\n",
    "# Muestra información por pantalla.\n",
    "print(f\"Además, la palabra 'inteligencia', se encuentra en la posición: {frase.index(\"inteligencia\")}.\")\n",
    "# Muestra información por pantalla.\n",
    "print(f\"Por otro lado, entre la posición 6 y 25, la primera letra 'a', se encuentra en la posición: {frase.index(\"a\", 6, 25)}.\")\n",
    "# Muestra información por pantalla.\n",
    "print(f\"Finalmente, la última 'a', se encuentra en la posición: {frase.rindex(\"a\")}.\")\n"
   ]
  },
  {
   "attachments": {
    "image.png": {
     "image/png": "[encoded data removed]"
    }
   },
   "cell_type": "markdown",
   "id": "0ecedd7e",
   "metadata": {},
   "source": [
    "### Examen de mentira 04\n",
    "Completa, se mostrará en la salida:\n",
    "![image.png](attachment:image.png)"
   ]
  },
  {
   "cell_type": "code",
   "execution_count": null,
   "id": "60265a4c",
   "metadata": {},
   "outputs": [
    {
     "name": "stdout",
     "output_type": "stream",
     "text": [
      "Egi aj nAeladpsa   b  rz\n",
      "aineg\n",
      "aineg\n"
     ]
    }
   ],
   "source": [
    "# Asignación de valor a una variable: se guarda un texto (string) en la variable 'frase'.\n",
    "frase = \"Es genial trabajar con IAs en lugar de personas, no se beben tu cerveza.\"\n",
    "\n",
    "# Muestra los caracteres de la cadena tomando uno de cada tres, empezando desde el índice 0.\n",
    "print(frase[::3])\n",
    "\n",
    "# Asignación de valor a una variable: se extrae una porción (substring) del texto desde el índice 3 hasta el 8 (sin incluirlo)\n",
    "# y se guarda en la variable 'frase_2'.\n",
    "frase_2 = frase[3:8]\n",
    "\n",
    "# Muestra la subcadena almacenada en 'frase_2' en orden inverso (de atrás hacia adelante).\n",
    "print(frase_2[::-1])\n",
    "\n",
    "# Muestra una porción del texto original en orden inverso, desde el índice 7 hasta el índice 3 (sin incluir el 2).\n",
    "print(frase[7:2:-1])\n"
   ]
  },
  {
   "cell_type": "markdown",
   "id": "d8e63a64",
   "metadata": {},
   "source": [
    "### 2. Strings y sus métodos\n",
    "Salida por pantalla con `print()` • Uso de colecciones (listas, diccionarios, tuplas) • Métodos de cadenas"
   ]
  },
  {
   "cell_type": "code",
   "execution_count": 73,
   "id": "a22f141d",
   "metadata": {},
   "outputs": [
    {
     "name": "stdout",
     "output_type": "stream",
     "text": [
      "SOY UN USUARIO CON PROBLEMAS\n",
      "soy un usuario con problemas\n",
      "['SoY', 'uN', 'uSuaRio', 'CoN', 'pRobLemaS']\n",
      "['SoY uN uSu', 'Rio CoN pRobLem', 'S']\n",
      "SoY uN uSuaRio CoN pRobLemaS\n",
      "-1\n",
      "Vamos a ver dinosaurios en el museo. ¿Va a haber algún velocirraptor en la exposición?\n",
      "2\n",
      "True\n",
      "True\n",
      "False\n"
     ]
    }
   ],
   "source": [
    "# Creo una variable con una frase de ejemplo\n",
    "frase = \"SoY uN uSuaRio CoN pRobLemaS\"\n",
    "\n",
    "# Convertir a mayúsculas\n",
    "print(frase.upper())\n",
    "\n",
    "# Convertir a minúsculas\n",
    "print(frase.lower())\n",
    "\n",
    "# Dividir las frases en palabras utilizando una lista\n",
    "lista_palabras = frase.split()\n",
    "print(lista_palabras)\n",
    "lista_palabras_2 = frase.split(\"a\")\n",
    "print(lista_palabras_2)\n",
    "\n",
    "# Unir los elementos\n",
    "frase_recompuesta = \" \".join(lista_palabras)\n",
    "print(frase_recompuesta)\n",
    "\n",
    "# Creo otra variable\n",
    "frase = \"Trata de buscar la tarta.\"\n",
    "\n",
    "# Método para buscar una palabra\n",
    "posicion = frase.find(\"pastel\") # Con find, en caso de no encontrar un substring, nos devuelve un -1\n",
    "print(posicion)\n",
    "\n",
    "# Creo una variable\n",
    "saludito = \"Trata de buscar la tarta.\"\n",
    "\n",
    "# Mostrar el índice (posición) de la primera letra \"o\"\n",
    "#print(saludito.index(\"pastel\")) # Con index, en caso de no encontrar un substring, salta una excepción\n",
    "\n",
    "# Otra frase\n",
    "frase = \"Vamos haber dinosaurios en el museo. ¿Va a haber algún velocirraptor en la exposición?\"\n",
    "\n",
    "# Sustituimos una palabra por otra\n",
    "frase_corregida = frase.replace(\"haber\", \"a ver\", 1)\n",
    "print(frase_corregida)\n",
    "\n",
    "# Contar cuántas veces aparece un substring\n",
    "contador = frase.count(\"haber\")\n",
    "print(contador)\n",
    "\n",
    "# Evaluar si aparece un substring en un string\n",
    "print(\"dinosaurios en el museo\" in frase)\n",
    "print(frase.__contains__(\"dinosaurios\"))\n",
    "\n",
    "# Evaluar si no aparece un substring en un string\n",
    "print(\"dinosaurios en el museo\" not in frase)\n",
    "\n",
    "\n",
    "\n"
   ]
  },
  {
   "attachments": {
    "image.png": {
     "image/png": "[encoded data removed]"
    }
   },
   "cell_type": "markdown",
   "id": "20427db1",
   "metadata": {},
   "source": [
    "### Examen de mentira 05\n",
    "Completa, la salida tiene que ser similar a:\n",
    "\n",
    "![image.png](attachment:image.png)"
   ]
  },
  {
   "cell_type": "code",
   "execution_count": null,
   "id": "390384a5",
   "metadata": {},
   "outputs": [
    {
     "name": "stdout",
     "output_type": "stream",
     "text": [
      "4\n",
      "['He', 'estado', 'reflexionando.', 'Al', 'mal', 'tiempo,', 'nada', 'de', 'ponerle', 'buena', 'cara.', 'Ponle', 'cara', 'de', 'asco,', '¡cabréate!', 'Dile', \"'¿Cómo\", 'que', 'buena', 'cara?', '¿Es', 'que', 'tengo', 'que', 'alegrarme', 'porque', 'haga', 'un', 'frio', 'del', 'carajo', 'y', 'llueva?']\n",
      "195\n",
      "89 -1\n",
      "He estado reflexionando. Al mal tiempo, nada de ponerle buena cara. Ponle cara de enfado, ¡cabréate! Dile '¿Cómo que buena cara? ¿Es que tengo que alegrarme porque haga un frio del carajo y llueva?\n",
      "4\n",
      "reflexiona\n",
      "True True\n"
     ]
    }
   ],
   "source": [
    "# Asignación de valor a una variable: se guarda un texto largo (string multilínea) en la variable 'frase'.\n",
    "# Las comillas entre paréntesis permiten dividir la cadena en varias líneas para facilitar la lectura.\n",
    "frase = (\"He estado reflexionando. Al mal tiempo, nada de ponerle buena cara. \"\n",
    "         \"Ponle cara de asco, ¡cabréate! Dile '¿Cómo que buena cara? ¿Es que tengo \"\n",
    "         \"que alegrarme porque haga un frio del carajo y llueva?\")\n",
    "\n",
    "# Cuenta cuántas veces aparece la palabra \"cara\" dentro del texto y muestra el resultado por pantalla.\n",
    "\n",
    "contador = frase.count(\"cara\")\n",
    "print(contador)\n",
    "\n",
    "# Divide el texto en una lista de palabras separadas por espacios y muestra la lista resultante.\n",
    "\n",
    "lista_palabras = frase.split()\n",
    "print(lista_palabras)\n",
    "\n",
    "# Muestra la longitud total del texto, es decir, el número de caracteres que contiene.\n",
    "\n",
    "print(len(frase))\n",
    "\n",
    "# Busca la posición donde aparecen las palabras \"cabréate\" y \"feliz\" dentro del texto.\n",
    "# Si una palabra no existe, el método find devuelve -1.\n",
    "# Se convierten ambas posiciones a texto (str) y se muestran separadas por un espacio.\n",
    "\n",
    "print(frase.find(\"cabréate\"), frase.find(\"feliz\"))\n",
    "\n",
    "# Reemplaza la palabra \"asco\" por \"enfado\" dentro del texto y muestra el resultado modificado.\n",
    "\n",
    "cambiar_palabra = frase.replace(\"asco\", \"enfado\")\n",
    "print(cambiar_palabra)\n",
    "\n",
    "# Vuelve a contar cuántas veces aparece la palabra \"cara\" en el texto (para comprobar que no cambia).\n",
    "\n",
    "print(frase.count(\"cara\"))\n",
    "\n",
    "# Asignación de valor a una variable: se extrae una porción del texto (del índice 10 al 19) y se guarda en 'substring'.\n",
    "\n",
    "substring = frase[10:20]\n",
    "print(substring)\n",
    "\n",
    "# Comprueba si la subcadena 'substring' empieza con la letra \"r\" y si termina con la letra \"a\".\n",
    "# Muestra ambos resultados (True o False) en la misma línea.\n",
    "\n",
    "print(substring.startswith(\"r\"), substring.endswith(\"a\"))\n"
   ]
  },
  {
   "cell_type": "markdown",
   "id": "675eebb1",
   "metadata": {},
   "source": [
    "### 4. Diccionarios/Listas/Tuplas/Sets\n",
    "Salida por pantalla con `print()` • Uso de colecciones (listas, diccionarios, tuplas) • Operaciones con listas"
   ]
  },
  {
   "cell_type": "code",
   "execution_count": null,
   "id": "ee7a0070",
   "metadata": {},
   "outputs": [
    {
     "name": "stdout",
     "output_type": "stream",
     "text": [
      "{'tipo': 'Red Neuronal', 'capas': 3, 'neuronas_capa': [3, 5, 7]}\n",
      "<class 'int'>\n",
      "5\n",
      "{'tipo': 'Red Neuronal', 'capas': 3, 'neuronas_capa': [3, 5, 7], 'tasa aprendizaje': 0.01}\n",
      "dict_keys(['tipo', 'capas', 'neuronas_capa', 'tasa aprendizaje'])\n",
      "dict_values(['Red Neuronal', 3, [3, 5, 7], 0.01])\n",
      "{'tipo': 'Red Neuronal', 'neuronas_capa': [3, 5, 7], 'tasa aprendizaje': 0.01, 'layers': 3}\n",
      "{'tipo': 'Red Neuronal', 'neuronas_capa': [3, 5, 7], 'tasa aprendizaje': 0.01}\n"
     ]
    }
   ],
   "source": [
    "# Diccionarios: son una estructura compuesta de elementos con la forma \"clave:valor\" (key/value)\n",
    "# Mutables, no ordenados, no pueden repetir claves, puede contener de distintos tipos de datos.\n",
    "\n",
    "modelo_ia = {\n",
    "    \"tipo\": \"Red Neuronal\",\n",
    "    \"capas\": 3,\n",
    "    \"neuronas_capa\": [3, 5, 7]\n",
    "}\n",
    "\n",
    "print(modelo_ia)\n",
    "\n",
    "# Acceder a un valor:\n",
    "consulta_1 = modelo_ia[\"capas\"]\n",
    "print(type(consulta_1))\n",
    "\n",
    "consulta_2 = modelo_ia[\"neuronas_capa\"][1]\n",
    "print(consulta_2)\n",
    "\n",
    "# Añadir un nuevo par (key:valor)\n",
    "\n",
    "modelo_ia[\"tasa aprendizaje\"] = 0.01\n",
    "print(modelo_ia)\n",
    "\n",
    "# Mostrar claves o valores \n",
    "print(modelo_ia.keys())\n",
    "print(modelo_ia.values())\n",
    "\n",
    "# Renombrar una clave \n",
    "modelo_ia[\"layers\"] = modelo_ia.pop(\"capas\")\n",
    "print(modelo_ia)\n",
    "\n",
    "#Eliminar una clave \n",
    "del modelo_ia[\"layers\"]\n",
    "print(modelo_ia)\n",
    "\n",
    "# Diccionarios de diccionarios\n",
    "\n",
    "modelo_ia= {\n",
    "    \"caracteristicas\": {\n",
    "        \"nombre\": \"Random Forest\",\n",
    "        \"niveles\": 4,\n",
    "    },\n",
    "    \"usos\": {\n",
    "        \"big_data\" : \"clasificacion\",\n",
    "        \"sistemas\" : \"predicciones\"\n",
    "    }\n",
    "}\n"
   ]
  },
  {
   "cell_type": "code",
   "execution_count": null,
   "id": "12afa804",
   "metadata": {},
   "outputs": [
    {
     "name": "stdout",
     "output_type": "stream",
     "text": [
      "[{'nombre': 'Proyecto Alpha', 'sujetos_prueba': 15}, {'nombre': 'Proyecto Beta', 'sujetos_prueba': 45}, {'nombre': 'Proyectos Gamma', 'sujetos_prueba': 100}]\n",
      "[{'nombre': 'Proyecto Alpha', 'sujetos_prueba': 15}, {'nombre': 'Proyecto Beta', 'sujetos_prueba': 2}, {'nombre': 'Proyectos Gamma', 'sujetos_prueba': 100}]\n",
      "False\n"
     ]
    }
   ],
   "source": [
    "# Listas - Mutables, ordenadas, pueden repetir elementos y ser de distiontos tipos.\n",
    "\n",
    "proyectos = [{\"nombre\": \"Proyecto Alpha\", \"sujetos_prueba\":15},\n",
    "             {\"nombre\": \"Proyecto Beta\", \"sujetos_prueba\":45}]\n",
    "\n",
    "# Añadir elementos \n",
    "nuevo_proyecto = {\"nombre\": \"Proyectos Gamma\", \"sujetos_prueba\":100}\n",
    "proyectos.append(nuevo_proyecto)\n",
    "print(proyectos)\n",
    "\n",
    "# Modificar un valor \n",
    "proyectos[1][\"sujetos_prueba\"] = 2\n",
    "print(proyectos)\n",
    "\n",
    "\n",
    "#   isthisjoin devuelve un true si los sets que compara son unicos y devuelve un false si alguno de los elementos entre los sets se repite\n",
    "\n",
    "marcas_tv = {\"Samsung\", \"LG\", \"Sony\", \"Phillipas\"}\n",
    "marcas_sf = {\"Apple\", \"Samsung\", \"Xiaomi\", \"Huawei\"}\n",
    "\n",
    "print(marcas_tv.isdisjoint(marcas_sf))\n"
   ]
  },
  {
   "cell_type": "code",
   "execution_count": 15,
   "id": "e19e3ae0",
   "metadata": {},
   "outputs": [
    {
     "name": "stdout",
     "output_type": "stream",
     "text": [
      "(1, 'hola', 2.2, [3, 5])\n",
      "5\n",
      "1 [3, 5]\n"
     ]
    }
   ],
   "source": [
    "# Tuplas - Inmutables, ordenadas pueden repetir datos y pueden ser de distintos tipos .\n",
    "\n",
    "tubla = (1, \"hola\", 2.2, [3,5])\n",
    "print(tubla)\n",
    "\n",
    "print(tubla[3][1])\n",
    "\n",
    "# Podemos asignar los elementos de una tupla a variables\n",
    "\n",
    "a, b, c, d = tubla\n",
    "print(a,d)"
   ]
  },
  {
   "cell_type": "code",
   "execution_count": 12,
   "id": "5284dcb3",
   "metadata": {},
   "outputs": [
    {
     "name": "stdout",
     "output_type": "stream",
     "text": [
      "{'Ra', 'ra', 'Isis', 9, 'Osiris'}\n",
      "5\n",
      "True\n",
      "{'Odin', 'Ra', 'ra', 'Isis', 'Thor', 9, 'Osiris'}\n",
      "{'Ra', 'ra', 'Isis', 'Nasus', 9, 'Osiris'}\n",
      "{'Ra', 'ra', 'Nasus', 9, 'Osiris'}\n",
      "Ra\n"
     ]
    }
   ],
   "source": [
    "# Sets - Mutables, desordenados, no se repiten valores  los datos pueden ser de distintos tipos.\n",
    "seth = {\"Osiris\", 9, \"Isis\", 9, \"Ra\", \"ra\"}\n",
    "print(seth)\n",
    "\n",
    "# Obtener la longitud \n",
    "print(len(seth))\n",
    "\n",
    "# Pertenencia \n",
    "print(9 in seth)\n",
    "\n",
    "seth2 = {\"Odin\", \"Isis\", \"Thor\"}\n",
    "print(seth.union(seth2))\n",
    "\n",
    "# Añadir \n",
    "\n",
    "seth.add(\"Nasus\")\n",
    "print(seth)\n",
    "\n",
    "# Eliminar elementos -  lanza una excepcion si el valor a eliminar no existe\n",
    "\"\"\"\n",
    "seth.remove(\"Isis\")\n",
    "print(seth)\n",
    "\"\"\"\n",
    "\n",
    "seth.discard(\"Isis\")\n",
    "print(seth)\n",
    "\n",
    "# Metodo pop\n",
    "print(seth.pop())"
   ]
  },
  {
   "attachments": {
    "image-2.png": {
     "image/png": "[encoded data removed]"
    }
   },
   "cell_type": "markdown",
   "id": "8a32a56c",
   "metadata": {},
   "source": [
    "### Examen de Mentira 06\n",
    "Completa los pasos.\n",
    "\n",
    "![image-2.png](attachment:image-2.png)"
   ]
  },
  {
   "cell_type": "code",
   "execution_count": null,
   "id": "adcf3a1f",
   "metadata": {},
   "outputs": [
    {
     "name": "stdout",
     "output_type": "stream",
     "text": [
      "[{'nombre': 'Proyecto Alpha', 'sujetos': 15}, {'nombre': 'Proyecto Beta', 'sujetos': 10}, {'nombre': 'Proyecto Gamma', 'sujetos': 12}, {'nombre': 'Proyecto Neural', 'sujetos': 25}]\n",
      "{'nombre': 'Proyecto Alpha', 'sujetos': 15}\n",
      "15\n",
      "{'nombre': 'Proyecto Alpha', 'sujetos': 25}\n",
      "[{'sujetos': 25}, {'nombre': 'Proyecto Beta', 'subjects': 10}, {'nombre': 'Proyecto Gamma', 'sujetos': 12}, {'nombre': 'Proyecto Neural', 'sujetos': 25}]\n"
     ]
    }
   ],
   "source": [
    "# Asignación de valor a una variable: se crea una lista llamada 'proyectos_ia'\n",
    "# que contiene tres diccionarios. Cada diccionario representa un proyecto con su nombre\n",
    "# y el número de sujetos asociados.\n",
    "proyectos_ia = [\n",
    "    {\"nombre\": \"Proyecto Alpha\", \"sujetos\": 15},\n",
    "    {\"nombre\": \"Proyecto Beta\", \"sujetos\": 10},\n",
    "    {\"nombre\": \"Proyecto Gamma\", \"sujetos\": 12}\n",
    "]\n",
    "\n",
    "# Asignación de valor a una variable: se crea un nuevo diccionario con la información\n",
    "# de un cuarto proyecto y se guarda en la variable 'nuevo_proyecto'.\n",
    "\n",
    "\n",
    "# Añade el nuevo proyecto al final de la lista 'proyectos_ia' utilizando el método append().\n",
    "\n",
    "\n",
    "# Muestra toda la lista de proyectos actualizada por pantalla.\n",
    "\n",
    "\n",
    "# Muestra el primer elemento de la lista (el diccionario correspondiente al primer proyecto).\n",
    "\n",
    "\n",
    "# Muestra el valor asociado a la clave \"sujetos\" dentro del primer diccionario.\n",
    "\n",
    "\n",
    "# Modifica el valor de la clave \"sujetos\" en el primer proyecto y lo actualiza a 25.\n",
    "\n",
    "\n",
    "# Muestra nuevamente el primer diccionario para comprobar que el cambio se ha realizado correctamente.\n",
    "\n",
    "\n",
    "# Eliminar la clave \"nombre\"\n",
    "\n",
    "\n",
    "# Elimina y devuelve un elemento de la lista.\n",
    "\n",
    "\n",
    "# Muestra información por pantalla.\n",
    "\n"
   ]
  },
  {
   "cell_type": "markdown",
   "id": "f6ef57c8",
   "metadata": {},
   "source": [
    "## Parte III\n",
    "**Bloques de teoría y práctica.**"
   ]
  },
  {
   "cell_type": "markdown",
   "id": "1dc04488",
   "metadata": {},
   "source": [
    "**Contenidos del bloque:**\n",
    "- Control de Flujo\n",
    "- 1. Condicional if\n",
    "- 2. Condicional ternario\n",
    "- 3. Condicional Match\n",
    "- 4. Loop (bucle) for\n",
    "- 5. Loop while\n",
    "- 6. Break, continue, pass\n",
    "- 7. Función ZIP\n",
    "- 8. Min y Max\n",
    "- 9. Random"
   ]
  },
  {
   "cell_type": "markdown",
   "id": "aeb2a65e",
   "metadata": {},
   "source": [
    "### Control de Flujo\n",
    "Bloque de práctica y ejemplos."
   ]
  },
  {
   "cell_type": "markdown",
   "id": "9fbc8eda",
   "metadata": {},
   "source": [
    "### 1. Condicional if\n",
    "Salida por pantalla con `print()` • Condicionales `if/elif/else` • Uso de colecciones (listas, diccionarios, tuplas)"
   ]
  },
  {
   "cell_type": "code",
   "execution_count": 46,
   "id": "60dc04db",
   "metadata": {},
   "outputs": [
    {
     "name": "stdout",
     "output_type": "stream",
     "text": [
      "Introduce una respuesta valida\n",
      "<class 'str'>\n",
      "¿te va bien un agua\n"
     ]
    }
   ],
   "source": [
    "\n",
    "#  Vamos a mostrar un mensaje por consola para preguntar al usuario si tien cocacola\n",
    "\n",
    "hay_cola = input(\"¿Queda Coca-Cola(True/False)?\")\n",
    "hay_cola = hay_cola.lower()\n",
    "hay_cola = (True if hay_cola == \"true\" else false) if hay_cola == \"true\" or hay_cola == \"false\" else \"Introduce una respuesta valida\"\n",
    "print(hay_cola)\n",
    "print(type(hay_cola))\n",
    "\n",
    "# Iniciamos el condicional de tipo if-elif-else\n",
    "\n",
    "pepsis =20\n",
    "\n",
    "if hay_cola == True: \n",
    "    print(\"Sí! Todavia queda alguna.\")\n",
    "elif pepsis > 0:\n",
    "    print(\"No queda, pero tenemos pepsi\")\n",
    "else: \n",
    "    print(\"¿te va bien un agua\")\n",
    "    "
   ]
  },
  {
   "cell_type": "markdown",
   "id": "3c2a74c7",
   "metadata": {},
   "source": [
    "### 2. Condicional ternario\n",
    "Salida por pantalla con `print()` • Condicionales `if/elif/else` • Uso de colecciones (listas, diccionarios, tuplas)"
   ]
  },
  {
   "cell_type": "code",
   "execution_count": 30,
   "id": "0e3779eb",
   "metadata": {},
   "outputs": [
    {
     "name": "stdout",
     "output_type": "stream",
     "text": [
      "¡Eres Mago!\n"
     ]
    }
   ],
   "source": [
    "es_mago = True \n",
    "texto = \"¡Eres Mago!\" if es_mago == True else \"No eres mago\"\n",
    "print(texto)"
   ]
  },
  {
   "cell_type": "markdown",
   "id": "7c9d2494",
   "metadata": {},
   "source": [
    "### 3. Condicional Match\n",
    "Salida por pantalla con `print()` • Coincidencia de patrones `match` • Uso de colecciones (listas, diccionarios, tuplas)"
   ]
  },
  {
   "cell_type": "code",
   "execution_count": 32,
   "id": "b844d670",
   "metadata": {},
   "outputs": [
    {
     "name": "stdout",
     "output_type": "stream",
     "text": [
      "No es azul.\n"
     ]
    }
   ],
   "source": [
    "camiseta = input(\"¿De que color es tu camiseta?\")\n",
    "\n",
    "# Tomamos una decision en funcion de la variable\n",
    "\n",
    "match camiseta:\n",
    "    case \"negra\": \n",
    "        print(\"Se ensucia con pelo de gato\")\n",
    "    case \"blanca\": \n",
    "        print(\"Se ensucia con pelo de gato negro\")\n",
    "    case \"amarilla\" | \"verde\":\n",
    "        print(\"No es azul.\")\n",
    "    case _: \n",
    "        print(\"vistete\")"
   ]
  },
  {
   "cell_type": "markdown",
   "id": "a2d09a75",
   "metadata": {},
   "source": [
    "### # EXAMEN DE MENTIRA 07"
   ]
  },
  {
   "cell_type": "markdown",
   "id": "816a0bb8",
   "metadata": {},
   "source": [
    "### Completa las intrucciones"
   ]
  },
  {
   "cell_type": "code",
   "execution_count": null,
   "id": "17fc3eea",
   "metadata": {},
   "outputs": [],
   "source": [
    "\n"
   ]
  },
  {
   "cell_type": "markdown",
   "id": "37e91b17",
   "metadata": {},
   "source": [
    "Ahora, evalúa las opciones."
   ]
  },
  {
   "cell_type": "code",
   "execution_count": null,
   "id": "f49e5263",
   "metadata": {},
   "outputs": [
    {
     "name": "stdout",
     "output_type": "stream",
     "text": [
      "20\n",
      "EL usuario no tiene experiencia\n"
     ]
    }
   ],
   "source": [
    "\n",
    "# Solicita al usuario que introduzca sus años de experiencia.\n",
    "# La función input() devuelve un texto, por lo que se convierte a número entero con int().\n",
    "texto = input(\"¿Cuantos años de experiencia tiene\")\n",
    "print(int(texto))\n",
    "\n",
    "\n",
    "# Solicita al usuario si tiene conocimientos en Python.\n",
    "# Si la respuesta es \"Si\", la variable se guarda como True; en cualquier otro caso, será False. Usa un ternario.\n",
    "\n",
    "texto_2 = input(\"Tiene conocimientos de Python indica SI o NO\")\n",
    "texto_2 = texto_2.lower\n",
    "texto_2 = (True if texto_2 == \"si\" else False) \n",
    "\n",
    "if texto_2 == True:\n",
    "    print(\"El usuario tiene experiencia\")\n",
    "else:\n",
    "    print(\"EL usuario no tiene experiencia\")\n",
    "    \n",
    "# Solicita al usuario si posee un certificado en Cloud Computing.\n",
    "# Se evalúa la respuesta de la misma forma, guardando True si el usuario responde \"Si\". Usa un ternario.\n",
    "\n",
    "texto_3 = input(\"posee un certificado en Cloud Computing. SI o NO\")\n",
    "texto_3 = texto_2.lower\n",
    "texto_3 = (True if texto_2 == \"si\" else False) \n",
    "\n",
    "if texto_3  == True:\n",
    "    print(\"El usuario lo tiene\")\n",
    "else:\n",
    "    print(\"EL usuario no tiene\")\n",
    "\n",
    "# Solicita al usuario que introduzca el color de su pelo y guarda la respuesta como texto.\n",
    "\n",
    "# Estructura condicional que evalúa las distintas situaciones del candidato\n",
    "# según sus años de experiencia, conocimientos y certificados.\n",
    "\n",
    "texto_4 = input(\"Introduce el color de pelo\")\n",
    "\n",
    "    # Si el candidato tiene más de 5 años de experiencia y sabe Python,\n",
    "    # se le ofrece el puesto de nivel Senior.\n",
    "\n",
    "\n",
    "\n",
    "    # Si el candidato tiene al menos 3 años de experiencia y conocimientos en Python,\n",
    "    # se le ofrece el puesto de Desarrollador.\n",
    "\n",
    "\n",
    "    # Condicional anidado: si además posee un certificado en Cloud Computing,\n",
    "    # se le ofrece un bono adicional.\n",
    "\n",
    "\n",
    "\n",
    "\n",
    "    # Si el candidato tiene entre 1 y 3 años de experiencia,\n",
    "    # sabe Python pero no tiene certificado Cloud, se le ofrece un puesto Junior.\n",
    "\n",
    "\n",
    "\n",
    "    # Si no cumple con ninguno de los requisitos anteriores,\n",
    "    # se utiliza una estructura match para ofrecer un puesto según el color de pelo.\n",
    "\n",
    "match usuario:\n",
    "    case \": \n",
    "        print(\"Se ensucia con pelo de gato\")\n",
    "    case \"blanca\": \n",
    "        print(\"Se ensucia con pelo de gato negro\")\n",
    "    case \"amarilla\" | \"verde\":\n",
    "        print(\"No es azul.\")\n",
    "    case _: \n",
    "        print(\"vistete\")\n",
    "\n",
    "            # Si el color de pelo es \"Rubio\", se ofrece el puesto de Becario Rubio.\n",
    "\n",
    "\n",
    "            # Si el color de pelo es \"Moreno\", se ofrece el puesto de Becario Moreno.\n",
    "\n",
    "\n",
    "            # Si el color de pelo es \"Castaño\", se ofrece el puesto de Becario Castaño.\n",
    "\n",
    "\n",
    "            # Si el color de pelo no coincide con ninguno de los anteriores,\n",
    "            # se ofrece el puesto genérico de Becario Calvo.\n",
    "\n",
    "            "
   ]
  },
  {
   "cell_type": "markdown",
   "id": "825fd5b7",
   "metadata": {},
   "source": [
    "### 4. Loop (bucle) for\n",
    "Salida por pantalla con `print()` • Bucles `for` y/o `while` • Uso de colecciones (listas, diccionarios, tuplas)"
   ]
  },
  {
   "cell_type": "code",
   "execution_count": 2,
   "id": "0292233c",
   "metadata": {},
   "outputs": [
    {
     "name": "stdout",
     "output_type": "stream",
     "text": [
      "Villanos\n",
      "-  Malefica\n",
      "-  Scar\n",
      "-  Ursula\n",
      "-  Gaston\n"
     ]
    }
   ],
   "source": [
    "villanos = [\"Malefica\", \"Scar\", \"Ursula\", \"Gaston\"]\n",
    "\n",
    "print(\"Villanos\")\n",
    "\n",
    "# For-each: recorre cada elemento de una estructura\n",
    "for villano in villanos:\n",
    "    print(\"- \", villano)"
   ]
  },
  {
   "cell_type": "markdown",
   "id": "35c5532b",
   "metadata": {},
   "source": [
    "### # Usando contador con enumerate\n",
    "Salida por pantalla con `print()` • Bucles `for` y/o `while` • Uso de colecciones (listas, diccionarios, tuplas)"
   ]
  },
  {
   "cell_type": "code",
   "execution_count": 32,
   "id": "217a7ca5",
   "metadata": {},
   "outputs": [
    {
     "name": "stdout",
     "output_type": "stream",
     "text": [
      "Villanos enumerados: \n",
      "\n",
      "1  -  Malefica\n",
      "2  -  Scar\n",
      "3  -  Ursula\n",
      "4  -  Gaston\n",
      "\n",
      "Bebidas: \n",
      "\n",
      "1 - te\n",
      "2 - cafe\n",
      "3 - colacao\n",
      "4 - carajillo\n"
     ]
    }
   ],
   "source": [
    "print(\"Villanos enumerados: \\n\")\n",
    "\n",
    "#Contador con enumerate\n",
    "\n",
    "for contador, villano in enumerate(villanos, start = 1):\n",
    "    print(contador, \" - \", villano)\n",
    "\n",
    "\n",
    "# Contador con range\n",
    "\n",
    "bebidas = [\"te\", \"cafe\", \"colacao\", \"carajillo\"]\n",
    "longitud = len(bebidas)\n",
    "print(\"\\nBebidas: \\n\")\n",
    "for i in range(longitud):\n",
    "    print(f\"{i+1} - {bebidas[i]}\")\n",
    "\n",
    "    \n",
    "  "
   ]
  },
  {
   "cell_type": "markdown",
   "id": "9e072749",
   "metadata": {},
   "source": [
    "### # Usando range y len para acceder al índice\n",
    "Salida por pantalla con `print()` • Bucles `for` y/o `while` • Uso de colecciones (listas, diccionarios, tuplas)"
   ]
  },
  {
   "cell_type": "code",
   "execution_count": null,
   "id": "9d3a566a",
   "metadata": {},
   "outputs": [
    {
     "name": "stdout",
     "output_type": "stream",
     "text": [
      "Bebidas disponibles en la cantina:\n",
      "1. Té de Dune\n",
      "2. Café Hutt\n",
      "3. Leche de Bantha\n",
      "4. Agua Espacial\n"
     ]
    }
   ],
   "source": []
  },
  {
   "cell_type": "markdown",
   "id": "6f1448f7",
   "metadata": {},
   "source": [
    "### # Uso de enumerate\n",
    "Salida por pantalla con `print()` • Uso de colecciones (listas, diccionarios, tuplas)"
   ]
  },
  {
   "cell_type": "code",
   "execution_count": 12,
   "id": "eaead8db",
   "metadata": {},
   "outputs": [
    {
     "name": "stdout",
     "output_type": "stream",
     "text": [
      "[(0, 'A'), (1, 'g'), (2, 'u'), (3, 'a'), (4, 'c'), (5, 'a'), (6, 't'), (7, 'e'), (8, ' '), (9, 'y'), (10, ' ')]\n"
     ]
    }
   ],
   "source": [
    "fruta = \"Aguacate y \"\n",
    "print(list(enumerate(fruta)))"
   ]
  },
  {
   "cell_type": "markdown",
   "id": "928f8aa9",
   "metadata": {},
   "source": [
    "### # Uso de range\n",
    "Salida por pantalla con `print()` • Uso de colecciones (listas, diccionarios, tuplas)"
   ]
  },
  {
   "cell_type": "code",
   "execution_count": null,
   "id": "bce6f6fd",
   "metadata": {},
   "outputs": [
    {
     "name": "stdout",
     "output_type": "stream",
     "text": [
      "[4, 9, 14, 19]\n"
     ]
    }
   ],
   "source": [
    "\n",
    "print(\"\\nBebidas: \\n\")\n",
    "for i in range(longitud):\n",
    "    print(f\"{i+1} - {bebidas[i]}\")\n",
    "\n",
    "print(range(8))\n",
    "\n",
    "for i in range(8):\n",
    "    print(i)s\n",
    "    \n",
    "for i in range(4, 11, 2):\n",
    "    print(i)"
   ]
  },
  {
   "cell_type": "markdown",
   "id": "3c75fdb3",
   "metadata": {},
   "source": [
    "### # 5. Loop while\n",
    "Salida por pantalla con `print()` • Entrada interactiva con `input()` • Bucles `for` y/o `while` • Uso de colecciones (listas, diccionarios, tuplas) • Operaciones con listas • Métodos de cadenas"
   ]
  },
  {
   "cell_type": "code",
   "execution_count": null,
   "id": "67c09fc6",
   "metadata": {},
   "outputs": [
    {
     "name": "stdout",
     "output_type": "stream",
     "text": [
      "has pedido\n",
      "-  aguia\n",
      "-  cafe\n"
     ]
    }
   ],
   "source": [
    "pedidos = []\n",
    "\n",
    "quieres_mas = \"si\"\n",
    "\n",
    "while(quieres_mas == \"si\"):\n",
    "    bebida = input(\"que bebida quieres\")\n",
    "    pedidos.append(bebida)\n",
    "    quieres_mas = input(\"quieres_mas\")\n",
    "\n",
    "print(\"Has pedido:\")\n",
    "\n",
    "for pedido in pedidos:\n",
    "    print(\"- \", pedido)"
   ]
  },
  {
   "cell_type": "markdown",
   "id": "a52daaa0",
   "metadata": {},
   "source": [
    "### 6. Break, continue, pass\n",
    "Salida por pantalla con `print()` • Condicionales `if/elif/else` • Bucles `for` y/o `while` • Uso de colecciones (listas, diccionarios, tuplas)"
   ]
  },
  {
   "cell_type": "code",
   "execution_count": 20,
   "id": "bdea45ec",
   "metadata": {},
   "outputs": [
    {
     "name": "stdout",
     "output_type": "stream",
     "text": [
      "0\n",
      "1\n",
      "3\n",
      "4\n",
      "6\n",
      "7\n"
     ]
    }
   ],
   "source": [
    "indice = 0\n",
    "final = 10\n",
    "\n",
    "while indice < final:\n",
    "    if indice == 2:\n",
    "        indice += 1\n",
    "        continue \n",
    "    elif indice == 5:\n",
    "        indice += 1\n",
    "        pass\n",
    "    elif indice == 8:\n",
    "        break\n",
    "    \n",
    "    print(indice)\n",
    "    indice += 1"
   ]
  },
  {
   "cell_type": "markdown",
   "id": "ee030582",
   "metadata": {},
   "source": [
    "### EXAMEN DE MENTIRA 08\n"
   ]
  },
  {
   "cell_type": "markdown",
   "id": "9d9e5798",
   "metadata": {},
   "source": [
    "### Lista de atracciones disponibles en PortAventura\n"
   ]
  },
  {
   "cell_type": "code",
   "execution_count": 26,
   "id": "444c9ed0",
   "metadata": {},
   "outputs": [],
   "source": [
    "# Crea una lista de atracciones de Port Aventura: \"Shambhala\", \"Dragon Khan\", \"Furius Baco\", \"Tutuki Splash\", \"Stampida\"\n",
    "atracciones = [\"Shambhala\", \"Dragon Khan\", \"Furius Baco\", \"Tutuki Splash\", \"Stampida\"]"
   ]
  },
  {
   "attachments": {
    "image.png": {
     "image/png": "[encoded data removed]"
    }
   },
   "cell_type": "markdown",
   "id": "9a8e137b",
   "metadata": {},
   "source": [
    "### # Índice para recorrer la lista\n",
    "![image.png](attachment:image.png)"
   ]
  },
  {
   "cell_type": "code",
   "execution_count": null,
   "id": "ed943b9d",
   "metadata": {},
   "outputs": [
    {
     "name": "stdout",
     "output_type": "stream",
     "text": [
      "\n",
      "Atracciones\n",
      "\n",
      "-  Shambhala\n",
      "-  Dragon Khan\n",
      "-  Furius Baco\n",
      "-  Tutuki Splash\n",
      "-  Stampida\n",
      "\n",
      "Atracciones enumeradas: \n",
      "\n",
      "0  -  Shambhala\n",
      "1  -  Dragon Khan\n",
      "2  -  Furius Baco\n",
      "3  -  Tutuki Splash\n",
      "4  -  Stampida\n",
      "\n",
      "Atracciones: \n",
      "\n",
      "0 - Shambhala\n",
      "1 - Dragon Khan\n",
      "2 - Furius Baco\n",
      "3 - Tutuki Splash\n",
      "4 - Stampida\n",
      "\n",
      "¡Bienvenido a PortAventura!\n",
      "Estas son las atracciones disponibles:\n",
      "\n"
     ]
    }
   ],
   "source": [
    "# Asignación de valor a una variable: se inicializa la variable 'indice' con valor 0.\n",
    "# Esta variable servirá como contador o punto de inicio para recorrer la lista de atracciones.\n",
    "\n",
    "atracciones = [\"Shambhala\", \"Dragon Khan\", \"Furius Baco\", \"Tutuki Splash\", \"Stampida\"]\n",
    "\n",
    "print(\"\\nAtracciones\\n\")\n",
    "for atraccion in atracciones:\n",
    "    print(\"- \", atraccion)\n",
    "    \n",
    "    \n",
    "print(\"\\nAtracciones enumeradas: \\n\")\n",
    "\n",
    "#Contador con enumerate\n",
    "\n",
    "for contador, atraccion in enumerate(atracciones, start = 0):\n",
    "    print(contador, \" - \", atraccion)\n",
    "\n",
    "# Asignación de valor a una variable: se calcula la longitud de la lista 'atracciones'\n",
    "# utilizando la función len(), y se guarda en 'total_atracciones'.\n",
    "# Esto permite saber cuántas atracciones hay en total.\n",
    "\n",
    "atracciones = [\"Shambhala\", \"Dragon Khan\", \"Furius Baco\", \"Tutuki Splash\", \"Stampida\"]\n",
    "rango = len(atracciones)\n",
    "print(\"\\nAtracciones: \\n\")\n",
    "for i in range(rango):\n",
    "    print(f\"{i} - {atracciones[i]}\")\n",
    "\n",
    "\n",
    "# Muestra un mensaje de bienvenida por pantalla al usuario.\n",
    "print(\"\\n¡Bienvenido a PortAventura!\")\n",
    "\n",
    "# Muestra un mensaje con el listado de atracciones disponibles.\n",
    "# El carácter '\\n' produce un salto de línea para mejorar la presentación del texto.\n",
    "print(\"Estas son las atracciones disponibles:\\n\")\n",
    "\n"
   ]
  },
  {
   "attachments": {
    "image.png": {
     "image/png": "[encoded data removed]"
    }
   },
   "cell_type": "markdown",
   "id": "5f208b9d",
   "metadata": {},
   "source": [
    "### Bucle para recorrer las atracciones automáticamente\n",
    "\n",
    "![image.png](attachment:image.png)"
   ]
  },
  {
   "cell_type": "code",
   "execution_count": 48,
   "id": "aae3f504",
   "metadata": {},
   "outputs": [
    {
     "name": "stdout",
     "output_type": "stream",
     "text": [
      "La próxima atracción es:  Dragon Khan\n",
      "La próxima atracción es:  Dragon Khan\n",
      "La próxima atracción es:  Dragon Khan\n",
      "La próxima atracción es:  Dragon Khan\n",
      "La próxima atracción es:  Dragon Khan\n",
      "Gracias por visitar PortAventura. ¡Esperamos verte pronto!\n"
     ]
    }
   ],
   "source": [
    "# Bucle while que se repetirá mientras el valor de 'indice' sea menor que el número total de atracciones.\n",
    "# Este bucle permite recorrer todas las atracciones una por una.\n",
    "\n",
    "indice = 0\n",
    "atracciones = [\"Shambhala\", \"Dragon Khan\", \"Furius Baco\", \"Tutuki Splash\", \"Stampida\"]\n",
    "\n",
    "longitud = len(atracciones)\n",
    "\n",
    "while indice < longitud:\n",
    "    print(\"La próxima atracción es: \", atracciones[0+1] )\n",
    "    indice +=1\n",
    "\n",
    "    # Muestra por pantalla el nombre de la atracción actual utilizando el valor del índice como posición en la lista.\n",
    "\n",
    "\n",
    "    # Solicita al usuario si quiere subir a la atracción.\n",
    "    # Si la respuesta es \"si\", la variable 'respuesta' será True; en caso contrario, será False.\n",
    "\n",
    "\n",
    "    # Estructura condicional que evalúa la respuesta del usuario.\n",
    "\n",
    "        # Si el usuario quiere subir, se muestra un mensaje indicando que va a disfrutar de la atracción.\n",
    "        \n",
    "        \n",
    "        # Si el usuario decide no subir, se incrementa el índice para pasar a la siguiente atracción.\n",
    "\n",
    "        # Se utiliza la instrucción 'continue' para saltar directamente a la siguiente iteración del bucle.\n",
    "\n",
    "\n",
    "    # Solicita al usuario si desea salir del parque.\n",
    "    # Si responde \"si\", la variable 'salir' será True; en caso contrario, será False.\n",
    "\n",
    "\n",
    "    # Estructura condicional que evalúa si el usuario quiere salir del parque.\n",
    "\n",
    "        # Si el usuario quiere salir, se rompe el bucle con 'break', finalizando la ejecución.\n",
    "\n",
    "\n",
    "        # Si el usuario no quiere salir, se muestra un mensaje para continuar el recorrido.\n",
    "\n",
    "\n",
    "    # Incrementa el valor del índice en 1 para pasar a la siguiente atracción en la lista.\n",
    "\n",
    "\n",
    "# Mensaje final que se muestra una vez que el bucle ha terminado, despidiendo al visitante.\n",
    "print(\"Gracias por visitar PortAventura. ¡Esperamos verte pronto!\")\n"
   ]
  },
  {
   "cell_type": "markdown",
   "id": "2cfcc21c",
   "metadata": {},
   "source": [
    "### 7. Función ZIP\n"
   ]
  },
  {
   "cell_type": "code",
   "execution_count": null,
   "id": "9a0f91fb",
   "metadata": {},
   "outputs": [
    {
     "name": "stdout",
     "output_type": "stream",
     "text": [
      " Diego: 9. \n",
      " Sabrina: 8.5. \n",
      " Carlota: 9.2. \n",
      " Hancel: 10. \n",
      "<zip object at 0x75eb7cc9bb40>\n",
      "[('Diego', 9), ('Sabrina', 8.5), ('Carlota', 9.2), ('Hancel', 10)]\n"
     ]
    }
   ],
   "source": [
    "# Creamos dos listas \n",
    "\n",
    "alumnos = [\"Diego\", \"Sabrina\", \"Carlota\", \"Hancel\"]\n",
    "notas = [9, 8.5, 9.2, 10]\n",
    "\n",
    "for alumno, nota in zip(alumnos, notas):\n",
    "    print(f\" {alumno}: {nota}. \")\n",
    "    \n",
    "\n",
    "print(zip(alumnos, notas))\n"
   ]
  },
  {
   "cell_type": "markdown",
   "id": "ea3c3871",
   "metadata": {},
   "source": [
    "### Podemos crear de esta forma una lista de tuplas\n"
   ]
  },
  {
   "cell_type": "code",
   "execution_count": 52,
   "id": "4d839ffc",
   "metadata": {},
   "outputs": [
    {
     "name": "stdout",
     "output_type": "stream",
     "text": [
      "[('Diego', 9), ('Sabrina', 8.5), ('Carlota', 9.2), ('Hancel', 10)]\n"
     ]
    }
   ],
   "source": [
    "\n",
    "print(list(zip(alumnos, notas)))"
   ]
  },
  {
   "cell_type": "markdown",
   "id": "c44c6aee",
   "metadata": {},
   "source": [
    "### 8. Min y Max\n"
   ]
  },
  {
   "cell_type": "code",
   "execution_count": null,
   "id": "f94a410e",
   "metadata": {},
   "outputs": [
    {
     "name": "stdout",
     "output_type": "stream",
     "text": [
      "172045\n",
      "La ciudad con mas habitantes tiene: 172045\n",
      "La ciudad más poblada es :  Santander\n"
     ]
    }
   ],
   "source": [
    "# Creamos diccionario \n",
    "\n",
    "ciudades_población = {\"Torrelavega\": 51692, \"Santander\": 172045, \"Reinosa\": 9102}\n",
    "lista_poblaciones = [51692, 172045, 9102 ]\n",
    "\n",
    "print(max(lista_poblaciones))\n",
    "print(f\"La ciudad con mas habitantes tiene: {max(ciudades_población.values())}\")\n",
    "print(f\"La ciudad alfabeticamente la primera: {min(ciudades_población.keys())}\")\n",
    "print(min(ciudades_población))\n",
    "\n",
    "\n",
    "# Obtener la clave con el valor mas alto\n",
    "poblacion_ciudades = [(poblacion, ciudad) for ciudad, poblacion in ciudades_población.items()]\n",
    "print(\"La ciudad más poblada es : \" , max(poblacion_ciudades)[1])"
   ]
  },
  {
   "cell_type": "markdown",
   "id": "d0ce1b75",
   "metadata": {},
   "source": [
    "### Invertir diccionario\n",
    "Salida por pantalla con `print()` • Bucles `for` y/o `while` • Uso de colecciones (listas, diccionarios, tuplas) • Funciones `max()` y `min()`"
   ]
  },
  {
   "cell_type": "code",
   "execution_count": null,
   "id": "f652a994",
   "metadata": {},
   "outputs": [
    {
     "name": "stdout",
     "output_type": "stream",
     "text": [
      "La ciudad más poblada es: Santander\n"
     ]
    }
   ],
   "source": []
  },
  {
   "cell_type": "markdown",
   "id": "d6f56994",
   "metadata": {},
   "source": [
    "### 9. Random\n",
    "Salida por pantalla con `print()` • Importación de módulos • Uso de colecciones (listas, diccionarios, tuplas) • Generación aleatoria (`random`)"
   ]
  },
  {
   "cell_type": "code",
   "execution_count": 58,
   "id": "fde221ea",
   "metadata": {},
   "outputs": [
    {
     "name": "stdout",
     "output_type": "stream",
     "text": [
      "10\n",
      "5.556655340828402\n",
      "0.7415504997598329\n",
      "Dragon Khan\n",
      "['Tutuki Splash', 'Shambhala', 'Furius Baco', 'Stampida', 'Dragon Khan']\n"
     ]
    }
   ],
   "source": [
    "# Importamos todo el contenido en una libreria \n",
    "\n",
    "from random import * \n",
    "\n",
    "seed(42)\n",
    "\n",
    "# Generar un número entero aleatorio entre dos valores (incluidos)\n",
    "print(randint(5, 10))\n",
    "\n",
    "# Generar un numero decimal aleatorio entre dos valores\n",
    "\n",
    "print(uniform(5, 10))\n",
    "\n",
    "# Generar un numero aleatorio entre 0 y 1\n",
    "print(random())\n",
    "\n",
    "# Mostrar un valor aleatorio de una lista \n",
    "print(choice(atracciones))\n",
    "\n",
    "# Mezcla los elementos de una lista \n",
    "shuffle(atracciones)\n",
    "print(atracciones)\n"
   ]
  },
  {
   "cell_type": "markdown",
   "id": "baa81b84",
   "metadata": {},
   "source": [
    "## Parte IV\n",
    "**Bloques de teoría y práctica.**"
   ]
  },
  {
   "cell_type": "markdown",
   "id": "8670cf5a",
   "metadata": {},
   "source": [
    "**Contenidos del bloque:**\n",
    "- 1. Documentación\n",
    "- 2. Funciones\n",
    "- 3. Funciones dinámicas\n",
    "- 4. *Args"
   ]
  },
  {
   "cell_type": "markdown",
   "id": "4becf407",
   "metadata": {},
   "source": [
    "### 1. Documentación\n",
    "Uso de colecciones (listas, diccionarios, tuplas)"
   ]
  },
  {
   "cell_type": "code",
   "execution_count": null,
   "id": "e31c418b",
   "metadata": {},
   "outputs": [
    {
     "name": "stdout",
     "output_type": "stream",
     "text": [
      " -.-.-,.,:::;:!!_____#Hola PIA\n",
      " -.-.-,.,:::;:!!_____#Hola PIA\n",
      "['mango', 'pera', 'limon', 'naranja', 'kiwi']\n"
     ]
    }
   ],
   "source": [
    "# Limpieza de datos\n",
    "\n",
    "frase = \" -.-.-,.,:::;:!!_____#Hola PIA,,,,,,,,:;#######\"\n",
    "\n",
    "# Strip: limpia los caracteres de un string dado un input\n",
    "frase_limpia_1 = frase.rstrip(\".-,:;_#!\")\n",
    "\n",
    "print(frase_limpia_1)\n",
    "\n",
    "frase_limpia_2 = frase_limpia_1.lstrip(\"-,:;_#!\")\n",
    "\n",
    "print(frase_limpia_2)\n",
    "\n",
    "# Asignar un valor a una posicion de una lista\n",
    "\n",
    "frutas = [\"mango\", \"pera\", \"limon\", \"kiwi\"]\n",
    "frutas.insert(3, \"naranja\")\n",
    "print(frutas)\n",
    "\n",
    "# Metodo map \n",
    "numeros = [1, 2, 3]\n",
    "\n",
    "def cuadrado (num):\n",
    "    return num**2\n",
    "\n",
    "resultado = map(cuadrado, numeros)\n",
    "print(type(resultado))\n",
    "print(resultado)\n",
    "print(list(resultado))\n",
    "\n",
    "           \n",
    "           "
   ]
  },
  {
   "cell_type": "markdown",
   "id": "31316ff1",
   "metadata": {},
   "source": [
    "### 2. Funciones\n",
    "Salida por pantalla con `print()` • Condicionales `if/elif/else` • Definición de funciones • Uso de colecciones (listas, diccionarios, tuplas)"
   ]
  },
  {
   "cell_type": "code",
   "execution_count": null,
   "id": "93ffb7f9",
   "metadata": {},
   "outputs": [
    {
     "name": "stdout",
     "output_type": "stream",
     "text": [
      "¡Hola Toñito!\n",
      "Puedes pasar.\n",
      "Dentro de la funcion, x vale: 5\n",
      "Dentro de la funcion, y vale: 5\n",
      "Fuera de la función, x vale 10\n",
      "Fuera de la función, y vale 5\n"
     ]
    }
   ],
   "source": [
    "# Funcion dinámica: contiene control de flujo.\n",
    "\n",
    "def autorización (nombre, edad):\n",
    "    print(f\"¡Hola {nombre}!\")\n",
    "    \n",
    "    if edad >= 18:\n",
    "        return \"Puedes pasar.\"\n",
    "    else:\n",
    "        return \"No puedes pasar.\"\n",
    "    \n",
    "# Llamar a la funciona autorizacion\n",
    "print(autorización(\"Toñito\", 24))\n",
    "    \n",
    "# Variables globales \n",
    "x = 10\n",
    "y = 10\n",
    " \n",
    "def var_local():\n",
    "     x = 5\n",
    "     print(f\"Dentro de la funcion, x vale: {x}\")\n",
    "  \n",
    "def var_global():\n",
    "    global y\n",
    "    y = 5\n",
    "    print(f\"Dentro de la funcion, y vale: {y}\")\n",
    "    \n",
    "var_local()\n",
    "var_global()\n",
    "\n",
    "print(f\"Fuera de la función, x vale {x}\") \n",
    "\n",
    "print(f\"Fuera de la función, y vale {y}\") \n",
    "       "
   ]
  },
  {
   "cell_type": "markdown",
   "id": "0c39e185",
   "metadata": {},
   "source": [
    "### 4. *Args\n",
    "El parámetro *args (abreviatura de arguments) se utiliza en las funciones para recibir un número variable de argumentos.\n",
    "Esto significa que una función puede ser llamada con cualquier cantidad de valores adicionales, y todos ellos se agrupan automáticamente dentro de una tupla."
   ]
  },
  {
   "cell_type": "code",
   "execution_count": 16,
   "id": "8c2d16d7",
   "metadata": {},
   "outputs": [
    {
     "name": "stdout",
     "output_type": "stream",
     "text": [
      "Nombre: Toñito\n",
      "Datos en tubla: (28, 'Castro urdiales', 'fiat').\n",
      "¿Cuantos datos adicionales tenemos 3 datos adicionales.\n",
      "Dato 1: 28.\n",
      "Dato 2: Castro urdiales.\n",
      "Dato 3: fiat.\n"
     ]
    }
   ],
   "source": [
    "\n",
    "# Definimos una función\n",
    "\n",
    "def mostrar_datos(nombre, *args):\n",
    "    print(f\"Nombre: {nombre}\")\n",
    "     \n",
    "    # Mostrar la tupla de argumentos adicionales :\n",
    "    print(f\"Datos en tubla: {args}.\")\n",
    "    \n",
    "    # Mostrar cuántos datos adicionales:\n",
    "    print(f\"¿Cuantos datos adicionales tenemos {len(args)} datos adicionales.\")\n",
    "\n",
    "    #Bucle con enumerate para recorrer toda la tupla\n",
    "    for indice, dato in enumerate (args,1):\n",
    "        print(f\"Dato {indice}: {dato}.\")\n",
    "        \n",
    "mostrar_datos(\"Toñito\" ,28, \"Castro urdiales\", \"fiat\")\n",
    "    "
   ]
  },
  {
   "cell_type": "markdown",
   "id": "9b553bc8",
   "metadata": {},
   "source": [
    "### Examen de mentira 09\n"
   ]
  },
  {
   "cell_type": "code",
   "execution_count": 44,
   "id": "89e8c64c",
   "metadata": {},
   "outputs": [
    {
     "name": "stdout",
     "output_type": "stream",
     "text": [
      "Soy Mr. %, ¿Qué quieres hacer?\n",
      "porcentaje de suspensos:  90.0\n"
     ]
    }
   ],
   "source": [
    "# Muestra un mensaje inicial por pantalla presentando el programa.\n",
    "print(\"Soy Mr. %, ¿Qué quieres hacer?\")\n",
    "\n",
    "# Solicita al usuario que elija una opción (1 o 2) y convierte la respuesta en un número entero.\n",
    "\n",
    "pregunta = input((\"(1/2) Elige una opción 1: Ver porcentaje aprobados, 2: Ver porcentaje suspensos\"))\n",
    "pregunta = int(pregunta)   \n",
    "\n",
    "# Solicita al usuario que introduzca el número total de estudiantes y guarda la respuesta como entero.\n",
    "\n",
    "estudiantes = input(\"¿Cuantos estudiantes hay en clase\")\n",
    "estudiantes = int(estudiantes)\n",
    "\n",
    "# Solicita al usuario que introduzca cuántos estudiantes han aprobado y guarda la respuesta como entero.\n",
    "\n",
    "aprobados = input(\"¿Cuantos estudiantes han aprobado\")\n",
    "aprobados = int(aprobados)\n",
    "\n",
    "# Define una función llamada 'calculo_aprobados' que recibe dos parámetros: total y aprobados.\n",
    "# Calcula el porcentaje de aprobados y devuelve el resultado.\n",
    "\n",
    "def num_aprobados(estudiantes, aprobados):\n",
    "    return (aprobados/estudiantes)*100\n",
    "\n",
    "# Define una función llamada 'calculo_suspensos' que también recibe dos parámetros.\n",
    "# Calcula el porcentaje de suspensos restando al 100% el porcentaje de aprobados.\n",
    "\n",
    "def calculo_suspensos (estudiantes, aprobados):\n",
    "    return ((estudiantes/estudiantes) * 100) -((aprobados/estudiantes)*100)\n",
    "\n",
    "# Estructura condicional que determina qué cálculo realizar según la opción elegida por el usuario.\n",
    "    # Si el usuario elige la opción 1, se calcula el porcentaje de aprobados.\n",
    "    # Muestra por pantalla el porcentaje calculado con formato adecuado.\n",
    "\n",
    "if pregunta == 1:\n",
    "    print(\"porcentaje de aprobados: \", num_aprobados(estudiantes, aprobados))\n",
    "    \n",
    "#elif opcion == 2:\n",
    "    # Si el usuario elige la opción 2, se calcula el porcentaje de suspensos.\n",
    "\n",
    "    # Muestra por pantalla el porcentaje de suspensos.\n",
    "else: \n",
    "   print(\"porcentaje de suspensos: \", calculo_suspensos(estudiantes, aprobados))\n",
    "  \n",
    "\n",
    "\n",
    "\n",
    "\n",
    "\n",
    "\n",
    "\n"
   ]
  },
  {
   "cell_type": "markdown",
   "id": "cf7da167",
   "metadata": {},
   "source": [
    "# Mini-Clasificador de *Spam* por Reglas\n",
    " \n",
    "**Objetivo.** Implementar un clasificador sencillo que decide si un mensaje de texto es *spam* usando:\n",
    "- Un **diccionario de pesos** de palabras frecuentes en spam.\n",
    "- Un **set de bloqueo** con términos “rojos” que penalizan extra.\n",
    "- Reglas simples (sin librerías): contar palabras, sumar pesos, aplicar penalización, comparar con un **umbral**.\n",
    " \n",
    "## Qué debes hacer\n",
    "1. Completa las funciones del esqueleto:\n",
    "   - `limpiar_texto(msg) → list[str]`: normaliza y “tokeniza” un mensaje.\n",
    "   - `score_mensaje(tokens, pesos, bloqueo) → int`: calcula la puntuación de spam.\n",
    "   - `es_spam(score, umbral) → bool`: decide si es spam según el umbral.\n",
    "   - `actualizar_historial(historial, msg, score, etiqueta)`: guarda el resultado.\n",
    "   - (Opcional) `analizar_lote(mensajes, pesos, bloqueo, umbral)`: procesa una lista de mensajes y devuelve un resumen.\n",
    "2. Usa los **datos de ejemplo** (pesos, bloqueo, umbral, mensajes) para probar.\n",
    "3. Muestra por pantalla: `mensaje`, `score`, `etiqueta (spam/ham)` y un **resumen** con número y porcentaje de spam/no-spam.\n",
    " \n",
    "## Restricciones\n",
    "- Solo Python básico: **listas, tuplas, diccionarios, sets** y el operador `in`.\n",
    "- Sin excepciones ni librerías externas. No hace falta guardar a fichero.\n",
    " \n",
    "## Criterios de evaluación\n",
    "- Funciones completadas y funcionando.\n",
    "- Uso correcto de estructuras (lista/tupla/dict/set) y `in`.\n",
    "- Código claro y comentado.\n",
    "- Resumen final correcto.\n",
    " \n",
    "---\n",
    " \n",
    "## Datos de ejemplo\n",
    " \n",
    "**Diccionario de pesos** (≥10 términos):\n",
    " \n",
    "gratis:3,\n",
    "oferta:2,\n",
    "descuento:2,\n",
    "limitado:2,\n",
    "urgente:2,\n",
    "click:1,\n",
    "compra:1,\n",
    "exclusivo:2,\n",
    "ahora:1,\n",
    "promo:2,\n",
    "rebaja:2,\n",
    "cupon:2\n",
    " \n",
    "**Set de bloqueo (penalizan extra):**\n",
    " \n",
    "{\"bitcoin\",\"premio\",\"loteria\",\"casino\",\"herencia\",\"multinivel\",\"adultos\"}\n",
    " \n",
    "**Umbral (recomendado):**\n",
    " \n",
    "UMBRAL = 5\n",
    " \n",
    " \n",
    "Mensajes de ejemplo (analiza todos):\n",
    " \n",
    "\"¡Oferta exclusiva! Consigue tu cupon de descuento en crocks ahora, click aquí.\"\n",
    " \n",
    "\"Reunión de proyecto a las 10h, agenda adjunta.\"\n",
    " \n",
    "\"Tu tío, el que ganó la lotería, ha fallecido, reclame su herencia haciendo click en este enlace.\"\n",
    " \n",
    "\"Recordatorio: clase de Python mañana. Entrega de práctica 2.\"\n",
    " \n",
    "\"Descuento limitado en cascos gaming, promo solo hoy.\"\n",
    " \n",
    "\"Actualiza tu contraseña desde la intranet del centro.\"\n",
    " \n",
    "\"Inversión en bitcoin garantizada. Multiplica tu dinero.\"\n",
    " \n",
    "\"Nueva oferta en la cafetería: menú estudiante a 35€.\"\n",
    " \n",
    "\"¡Gratis! Prueba 30 días. Acceso exclusivo a contenidos para adultos.\"\n",
    " \n",
    "\"Urgente: se cambia el partido a las 18:30. Llega 10 min antes.\"\n",
    " \n",
    "\"Únete a nuestro plan multinivel y gana desde casa desde un bitcoin al mes.\"\n",
    " \n",
    "\"Entrega de TFG: guía de estilo y rúbrica.\"\n"
   ]
  },
  {
   "cell_type": "code",
   "execution_count": 51,
   "id": "ce053520",
   "metadata": {},
   "outputs": [
    {
     "name": "stdout",
     "output_type": "stream",
     "text": [
      "=== DEMO ===\n",
      "\n",
      "--- Resumen global (con analizar_lote) ---\n",
      "SPAM score=7 : ¡Oferta exclusiva! Consigue tu cupon de descuento en crocks ahora, click aquí.\n",
      "HAM score=0 : Reunión de proyecto a las 10h, agenda adjunta.\n",
      "HAM score=4 : Tu tío, el que ganó la lotería, ha fallecido. Reclame su herencia haciendo click en este enlace.\n",
      "HAM score=0 : Recordatorio: clase de Python mañana. Entrega de práctica 2.\n",
      "SPAM score=6 : Descuento limitado en cascos gaming, promo solo hoy.\n",
      "HAM score=0 : Actualiza tu contraseña desde la intranet del centro.\n",
      "HAM score=3 : Inversión en bitcoin garantizada. Multiplica tu dinero.\n",
      "HAM score=2 : Nueva oferta en la cafetería: menú estudiante a 35€.\n",
      "SPAM score=7 : ¡Gratis! Prueba 30 días. Acceso exclusivo a contenidos para adultos.\n",
      "HAM score=2 : Urgente: se cambia el partido a las 18:30. Llega 10 min antes.\n",
      "SPAM score=6 : Únete a nuestro plan multinivel y gana desde casa desde un bitcoin al mes.\n",
      "HAM score=0 : Entrega de TFG: guía de estilo y rúbrica.\n",
      "{'spam': 4, 'ham': 8, 'total': 12, 'pct_spam': 33.333333333333336, 'pct_ham': 66.66666666666667}\n",
      "\n",
      "Top-5 por score:\n",
      "score= 7 :: ¡Oferta exclusiva! Consigue tu cupon de descuento en crocks ahora, click aquí.\n",
      "score= 7 :: ¡Gratis! Prueba 30 días. Acceso exclusivo a contenidos para adultos.\n",
      "score= 6 :: Descuento limitado en cascos gaming, promo solo hoy.\n",
      "score= 6 :: Únete a nuestro plan multinivel y gana desde casa desde un bitcoin al mes.\n",
      "score= 4 :: Tu tío, el que ganó la lotería, ha fallecido. Reclame su herencia haciendo click en este enlace.\n"
     ]
    }
   ],
   "source": [
    "# ========================================================\n",
    "# Mini-Clasificador de Spam por Reglas (IA simbólica)\n",
    "# ========================================================\n",
    "\n",
    "# --- Datos de ejemplo de palabras y pesos ---\n",
    "PESOS: dict = {\"gratis\": 2, \"oferta\" : 2, \"descuento\": 2, \"limitado\": 2, \"urgente\": 2, \"click\": 1,\n",
    "               \"compra\": 1, \"exclusivo\": 2, \"promo\": 2, \"rebaja\": 2, \"cupon\": 2}\n",
    "\n",
    "# Set con palabras de bloqueo\n",
    "BLOQUEO: set = { \"bitcoin\", \"premio\", \"loteria\", \"casino\", \"herencia\", \"multinivel\", \"adultos\"}\n",
    "\n",
    "UMBRAL: int =  5\n",
    "PENALIZACION_BLOQUEO = 3  # penalización extra por palabras de bloqueo\n",
    "\n",
    "# Lista de mensajes\n",
    "MENSAJES: list = [\n",
    "    \"¡Oferta exclusiva! Consigue tu cupon de descuento en crocks ahora, click aquí.\",\n",
    "    \"Reunión de proyecto a las 10h, agenda adjunta.\",\n",
    "    \"Tu tío, el que ganó la lotería, ha fallecido. Reclame su herencia haciendo click en este enlace.\",\n",
    "    \"Recordatorio: clase de Python mañana. Entrega de práctica 2.\",\n",
    "    \"Descuento limitado en cascos gaming, promo solo hoy.\",\n",
    "    \"Actualiza tu contraseña desde la intranet del centro.\",\n",
    "    \"Inversión en bitcoin garantizada. Multiplica tu dinero.\",\n",
    "    \"Nueva oferta en la cafetería: menú estudiante a 35€.\",\n",
    "    \"¡Gratis! Prueba 30 días. Acceso exclusivo a contenidos para adultos.\",\n",
    "    \"Urgente: se cambia el partido a las 18:30. Llega 10 min antes.\",\n",
    "    \"Únete a nuestro plan multinivel y gana desde casa desde un bitcoin al mes.\",\n",
    "    \"Entrega de TFG: guía de estilo y rúbrica.\"\n",
    "]\n",
    "\n",
    "# Historial de análisis\n",
    "HISTORIAL = []\n",
    "\n",
    "# --------------------------------------------------------\n",
    "# 1) Normalización y tokenización simple\n",
    "# --------------------------------------------------------\n",
    "def limpiar_texto(msg: str) -> list:\n",
    "    \"\"\"Convierte un mensaje en lista de palabras minúsculas y limpias de signos.\"\"\"\n",
    "    if not msg:\n",
    "        return []\n",
    "\n",
    "    s = msg.lower()\n",
    "    for ch in [\".\", \",\", \";\", \":\", \"!\", \"¡\", \"¿\", \"?\", \"(\", \")\", \"\\\"\"]:\n",
    "        s = s.replace(ch, \" \")  # ⚠️ usar variable ch, no \"ch\"\n",
    "\n",
    "    tokens = s.split()\n",
    "    tokens_limpios = [t for t in tokens if t]  # descarta vacíos\n",
    "    return tokens_limpios\n",
    "\n",
    "# --------------------------------------------------------\n",
    "# 2) Puntuación del mensaje\n",
    "# --------------------------------------------------------\n",
    "def score_mensaje(tokens: list, pesos: dict, bloqueo: set) -> int:\n",
    "    \"\"\"Calcula puntuación de spam según palabras y bloqueos.\"\"\"\n",
    "    score = 0\n",
    "    for tk in tokens:\n",
    "        if tk in pesos:\n",
    "            score += pesos[tk]\n",
    "        if tk in bloqueo:\n",
    "            score += PENALIZACION_BLOQUEO\n",
    "    return score\n",
    "\n",
    "# --------------------------------------------------------\n",
    "# 3) Decisión de spam por umbral\n",
    "# --------------------------------------------------------\n",
    "def es_spam(score: int, umbral: int) -> bool:\n",
    "    \"\"\"Devuelve True si score >= umbral.\"\"\"\n",
    "    return score >= umbral\n",
    "\n",
    "# --------------------------------------------------------\n",
    "# 4) Historial\n",
    "# --------------------------------------------------------\n",
    "def actualizar_historial(historial: list, msg: str, score: int, etiqueta: str) -> None:\n",
    "    \"\"\"Añade al historial un diccionario con msg, score y etiqueta.\"\"\"\n",
    "    registro  = {\"msg\": msg, \"score\": score, \"etiqueta\": etiqueta}\n",
    "    historial.append(registro)\n",
    "\n",
    "# --------------------------------------------------------\n",
    "# 5) Analizar un lote de mensajes y devolver resumen\n",
    "# --------------------------------------------------------\n",
    "def analizar_lote(mensajes: list, pesos: dict, bloqueo: set, umbral: int) -> dict:\n",
    "    resultados = []\n",
    "    contadores = {'spam': 0, 'ham': 0}\n",
    "\n",
    "    for msg in mensajes:\n",
    "        tokens = limpiar_texto(msg)\n",
    "        sc = score_mensaje(tokens, pesos, bloqueo)\n",
    "        etiqueta = \"spam\" if es_spam(sc, umbral) else \"ham\"\n",
    "\n",
    "        resultados.append({'msg': msg, 'score': sc, 'etiqueta': etiqueta})\n",
    "\n",
    "        if etiqueta == \"spam\":\n",
    "            contadores['spam'] += 1\n",
    "        else:\n",
    "            contadores['ham'] += 1\n",
    "\n",
    "        print(f\"{etiqueta.upper()} score={sc} : {msg}\")\n",
    "\n",
    "    total = contadores['spam'] + contadores['ham']\n",
    "    pct_spam = (contadores['spam'] * 100) / total if total > 0 else 0\n",
    "    pct_ham  = (contadores['ham']  * 100) / total if total > 0 else 0\n",
    "\n",
    "    return {\n",
    "        'resumen': {'spam': contadores['spam'], 'ham': contadores['ham'],\n",
    "                    'total': total, 'pct_spam': pct_spam, 'pct_ham': pct_ham},\n",
    "        'resultados': resultados\n",
    "    }\n",
    "\n",
    "# --------------------------------------------------------\n",
    "# 6) Demo rápida\n",
    "# --------------------------------------------------------\n",
    "print(\"=== DEMO ===\")\n",
    "'''\n",
    "Bloque que ejecuta el análisis completo de todos los mensajes.\n",
    "Muestra el resumen global y los 5 mensajes con mayor score de spam.\n",
    "'''\n",
    "print(\"\\n--- Resumen global (con analizar_lote) ---\")\n",
    "salida = analizar_lote(MENSAJES, PESOS, BLOQUEO, UMBRAL)\n",
    "print(salida['resumen'])\n",
    "\n",
    "ordenados = sorted(salida['resultados'], key=lambda r: r['score'], reverse=True)\n",
    "print(\"\\nTop-5 por score:\")\n",
    "for r in ordenados[:5]:\n",
    "    print(f\"score={r['score']:2d} :: {r['msg']}\")\n"
   ]
  }
 ],
 "metadata": {
  "kernelspec": {
   "display_name": "PIA_Prueba",
   "language": "python",
   "name": "python3"
  },
  "language_info": {
   "codemirror_mode": {
    "name": "ipython",
    "version": 3
   },
   "file_extension": ".py",
   "mimetype": "text/x-python",
   "name": "python",
   "nbconvert_exporter": "python",
   "pygments_lexer": "ipython3",
   "version": "3.12.11"
  }
 },
 "nbformat": 4,
 "nbformat_minor": 5
}
