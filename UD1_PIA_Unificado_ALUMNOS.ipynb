{
 "cells": [
  {
   "cell_type": "markdown",
   "id": "b9d2e3ec",
   "metadata": {},
   "source": [
    "# Fundamentos de Python — PIA1 · PIA2 · PIA3 · PIA4\n",
    "**Fecha:** 07/10/2025\n",
    "\n",
    "**Alumn@**: Sabrina Gabás Jiménez\n",
    "\n",
    "Este cuaderno integra cuatro bloques en orden. Cada sección incluye una breve descripción y el código original comentado instrucción por instrucción."
   ]
  },
  {
   "cell_type": "markdown",
   "id": "71f89096",
   "metadata": {},
   "source": [
    "## Parte I\n",
    "**Bloques de teoría y práctica.**"
   ]
  },
  {
   "cell_type": "markdown",
   "id": "0392d6cb",
   "metadata": {},
   "source": [
    "**Contenidos del bloque:**\n",
    "- Prueba 01\n",
    "- 1. Comentarios\n",
    "- 2. Instrucción Print\n",
    "- 2. Símbolos reservados\n",
    "- 3. Input\n",
    "- 4. Variables y tipos de datos\n",
    "- Examen de mentira 04\n",
    "- Tipos de datos\n",
    "- string       (str)     --> \"¡Hola IA! Soy 1 string.\"\n",
    "- integer      (int)     --> 1, 13, 42, -3\n",
    "- float        (float)   --> 1.25, 13.0, 42.001, -3.858\n",
    "- listas       (list)    --> [\"sal\", \"pimienta\", 8, 8.8]\n",
    "- diccionarios (dic)     --> {'color':'rojo', 'planeta':'marte'}\n",
    "- tuplas       (tuple)   --> ('do', 're', 'mi', 'fa', 'sol')\n",
    "- sets         (set)     --> {'Tesla', 'Mercedes', 'Audi', 'Toyota', 'Seat'}\n",
    "- booleanos    (bool)    --> true, false\n",
    "- 5. Formatear Strings\n",
    "- 6. Tipo de dato\n",
    "- 7. Formatear cadenas"
   ]
  },
  {
   "cell_type": "markdown",
   "id": "1fc18608",
   "metadata": {},
   "source": [
    "### 1. Comentarios\n",
    "Bloque de práctica y ejemplos."
   ]
  },
  {
   "cell_type": "code",
   "execution_count": null,
   "id": "4bc57f69",
   "metadata": {},
   "outputs": [],
   "source": [
    "# Hola, esto es un comentario."
   ]
  },
  {
   "cell_type": "markdown",
   "id": "998c913c",
   "metadata": {},
   "source": [
    "### 2. Instrucción Print\n",
    "Salida por pantalla con `print()` • Uso de colecciones (listas, diccionarios, tuplas)"
   ]
  },
  {
   "cell_type": "code",
   "execution_count": 1,
   "id": "52d43f7f",
   "metadata": {},
   "outputs": [
    {
     "name": "stdout",
     "output_type": "stream",
     "text": [
      "¡Hola PIA!\n",
      "¡Hola\n",
      "PIA!\n",
      "¡Hola \"PIA\"!\n",
      "¡Hola Pia!\n"
     ]
    }
   ],
   "source": [
    "# Utilizaremos print para mostrar datos por pantalla\n",
    "\n",
    "# Para cambiar el interprete pulsare control + shit + p\n",
    "\n",
    "print(\"¡Hola PIA!\")\n",
    "print(\"¡Hola\\nPIA!\")\n",
    "print(\"¡Hola \\\"PIA\\\"!\")\n",
    "print(\"¡Hola Pia!\")"
   ]
  },
  {
   "cell_type": "markdown",
   "id": "f8541103",
   "metadata": {},
   "source": [
    "### 2. Símbolos reservados\n",
    "Salida por pantalla con `print()` • Uso de colecciones (listas, diccionarios, tuplas)"
   ]
  },
  {
   "cell_type": "code",
   "execution_count": null,
   "id": "32cc1522",
   "metadata": {},
   "outputs": [
    {
     "name": "stdout",
     "output_type": "stream",
     "text": [
      "¡Hola\n",
      "PIA!\n",
      "¡Hola\tPIA!\n",
      "\"Hola PIA\"\n",
      "Hola \\ PIA.\n"
     ]
    }
   ],
   "source": []
  },
  {
   "attachments": {
    "image.png": {
     "image/png": "[encoded data removed]"
    }
   },
   "cell_type": "markdown",
   "id": "f7059a64",
   "metadata": {},
   "source": [
    "### Examen de mentira 01\n",
    "Salida por pantalla con `print()` • Uso de colecciones (listas, diccionarios, tuplas)\n",
    "\n",
    "![image.png](attachment:image.png)"
   ]
  },
  {
   "cell_type": "code",
   "execution_count": 3,
   "id": "ce198bf6",
   "metadata": {},
   "outputs": [
    {
     "ename": "SyntaxError",
     "evalue": "unterminated string literal (detected at line 1) (1880253097.py, line 1)",
     "output_type": "error",
     "traceback": [
      "  \u001b[36mCell\u001b[39m\u001b[36m \u001b[39m\u001b[32mIn[3]\u001b[39m\u001b[32m, line 1\u001b[39m\n\u001b[31m    \u001b[39m\u001b[31mprint(\" ¡Ja,\\n\\t ja, \\n\\t Ja!\\\")\u001b[39m\n          ^\n\u001b[31mSyntaxError\u001b[39m\u001b[31m:\u001b[39m unterminated string literal (detected at line 1)\n"
     ]
    }
   ],
   "source": [
    "print(\" ¡Ja,\\n\\t ja, \\n\\t Ja!\\\")"
   ]
  },
  {
   "cell_type": "markdown",
   "id": "4c3178b9",
   "metadata": {},
   "source": [
    "### 3. Input\n",
    "Salida por pantalla con `print()` • Entrada interactiva con `input()` • Uso de colecciones (listas, diccionarios, tuplas)"
   ]
  },
  {
   "cell_type": "code",
   "execution_count": 5,
   "id": "e9ab5cc6",
   "metadata": {},
   "outputs": [
    {
     "name": "stdout",
     "output_type": "stream",
     "text": [
      "yo\n",
      "si\n"
     ]
    }
   ],
   "source": [
    "\n",
    "# Vamos a solicitar al usuario información \n",
    "\n",
    "quien = input(\"¿Quien solto a los perros?\")\n",
    "\n",
    "# Mostrar por pantalla el resultado\n",
    "\n",
    "print(quien)\n",
    "\n",
    "# Mostrar el input directamente con el print \n",
    "\n",
    "print(input(\"¿Qué pie calzas?\"))\n",
    "\n"
   ]
  },
  {
   "cell_type": "code",
   "execution_count": null,
   "id": "4794cfcb",
   "metadata": {},
   "outputs": [],
   "source": []
  },
  {
   "cell_type": "markdown",
   "id": "0ca3081a",
   "metadata": {},
   "source": [
    "### Examen de mentira 02\n",
    "Salida por pantalla con `print()` • Entrada interactiva con `input()` • Uso de colecciones (listas, diccionarios, tuplas)"
   ]
  },
  {
   "cell_type": "code",
   "execution_count": null,
   "id": "787bd226",
   "metadata": {},
   "outputs": [],
   "source": [
    "# Solicita datos al usuario por teclado.\n",
    "\n",
    "# Solicita datos al usuario por teclado.\n",
    "\n",
    "# Solicita datos al usuario por teclado.\n",
    "\n",
    "# Muestra información por pantalla.\n",
    "\n",
    "# Muestra información por pantalla.\n",
    "\n",
    "# Muestra información por pantalla.\n",
    "\n"
   ]
  },
  {
   "cell_type": "markdown",
   "id": "dff6ba46",
   "metadata": {},
   "source": [
    "### 4. Variables y tipos de datos\n"
   ]
  },
  {
   "cell_type": "markdown",
   "id": "1f926d3d",
   "metadata": {},
   "source": [
    "### Tipos de datos"
   ]
  },
  {
   "cell_type": "code",
   "execution_count": null,
   "id": "b2379485",
   "metadata": {},
   "outputs": [],
   "source": [
    "#  Tipos de datos\n",
    "# string       (str)     --> \"¡Hola IA! Soy 1 string.\"\n",
    "# integer      (int)     --> 1, 13, 42, -3\n",
    "# float        (float)   --> 1.25, 13.0, 42.001, -3.858\n",
    "# listas       (list)    --> [\"sal\", \"pimienta\", 8, 8.8]\n",
    "# diccionarios (dic)     --> {'color':'rojo', 'planeta':'marte'}\n",
    "# tuplas       (tuple)   --> ('do', 're', 'mi', 'fa', 'sol')\n",
    "# sets         (set)     --> {'Tesla', 'Mercedes', 'Audi', 'Toyota', 'Seat'}\n",
    "# booleanos    (bool)    --> true, false"
   ]
  },
  {
   "cell_type": "markdown",
   "id": "aa3ddeda",
   "metadata": {},
   "source": [
    "Tipos de datos:"
   ]
  },
  {
   "cell_type": "code",
   "execution_count": null,
   "id": "fc3c0c8c",
   "metadata": {},
   "outputs": [],
   "source": []
  },
  {
   "cell_type": "markdown",
   "id": "f5a273bd",
   "metadata": {},
   "source": [
    "### 5. Formatear Strings\n"
   ]
  },
  {
   "cell_type": "code",
   "execution_count": null,
   "id": "85d778a0",
   "metadata": {},
   "outputs": [],
   "source": []
  },
  {
   "cell_type": "markdown",
   "id": "e5ef2b40",
   "metadata": {},
   "source": [
    "## Parte II\n",
    "**Bloques de teoría y práctica.**"
   ]
  },
  {
   "cell_type": "markdown",
   "id": "4ede179e",
   "metadata": {},
   "source": [
    "**Contenidos del bloque:**\n",
    "- Prueba 02\n",
    "- 1. Index\n",
    "- EXAMEN DE MENTIRA\n",
    "- Examen de mentira 02\n",
    "- 2. Strings y sus métodos\n",
    "- Examen de mentira\n",
    "- 4. Listas\n",
    "- Examen de Mentira\n",
    "- Añadir nuevo proyecto\n",
    "- Modificar el valor\n",
    "- Eliminar la clave \"nombre\"\n",
    "- Modificar el nombre de la clave sujetos por subjects"
   ]
  },
  {
   "cell_type": "markdown",
   "id": "a6c935bf",
   "metadata": {},
   "source": [
    "### Prueba 02\n"
   ]
  },
  {
   "cell_type": "markdown",
   "id": "4ac7e498",
   "metadata": {},
   "source": [
    "### 1. Index\n",
    "Índices de los strings (obtener y llamar)"
   ]
  },
  {
   "cell_type": "code",
   "execution_count": null,
   "id": "e55bfc06",
   "metadata": {},
   "outputs": [
    {
     "name": "stdout",
     "output_type": "stream",
     "text": [
      "2\n",
      "6\n",
      "o\n",
      "16\n",
      "12\n",
      "e\n",
      "ola \n",
      ".esalc yah on yoH !AIP aloH¡\n"
     ]
    }
   ],
   "source": [
    "\n"
   ]
  },
  {
   "attachments": {
    "image.png": {
     "image/png": "[encoded data removed]"
    }
   },
   "cell_type": "markdown",
   "id": "a8c98f2d",
   "metadata": {},
   "source": [
    "### EXAMEN DE MENTIRA 03\n",
    "Obtén el siguiente resultado:\n",
    "![image.png](attachment:image.png)"
   ]
  },
  {
   "cell_type": "code",
   "execution_count": null,
   "id": "4c2932df",
   "metadata": {},
   "outputs": [
    {
     "name": "stdout",
     "output_type": "stream",
     "text": [
      "En la frase \"La lección más importante en la programación de inteligencia artificial es\", en la posición 15\n",
      "encontramos la letra: i\n",
      "Además, la palabra 'inteligencia', se encuentra en la posición. 48\n",
      "Por otro lado, entre la posición 6 y 25, la primera 'a' está en la posición: 21\n",
      "Finalmente, la última 'a', se encuentra en la posición: 69\n"
     ]
    }
   ],
   "source": [
    "# Asignación de valor a una variable.\n",
    "\n",
    "# Muestra información por pantalla.\n",
    "\n",
    "# Muestra información por pantalla.\n",
    "\n",
    "# Muestra información por pantalla.\n",
    "\n",
    "# Muestra información por pantalla.\n",
    "\n"
   ]
  },
  {
   "attachments": {
    "image.png": {
     "image/png": "[encoded data removed]"
    }
   },
   "cell_type": "markdown",
   "id": "0ecedd7e",
   "metadata": {},
   "source": [
    "### Examen de mentira 04\n",
    "Completa, se mostrará en la salida:\n",
    "![image.png](attachment:image.png)"
   ]
  },
  {
   "cell_type": "code",
   "execution_count": null,
   "id": "60265a4c",
   "metadata": {},
   "outputs": [
    {
     "name": "stdout",
     "output_type": "stream",
     "text": [
      "Egi aj nAeladpsa   b  rz\n",
      "aineg\n",
      "aineg\n"
     ]
    }
   ],
   "source": [
    "# Asignación de valor a una variable: se guarda un texto (string) en la variable 'frase'.\n",
    "\n",
    "\n",
    "# Muestra los caracteres de la cadena tomando uno de cada tres, empezando desde el índice 0.\n",
    "\n",
    "\n",
    "# Asignación de valor a una variable: se extrae una porción (slice) del texto desde el índice 3 hasta el 8 (sin incluirlo)\n",
    "# y se guarda en la variable 'frase_2'.\n",
    "\n",
    "\n",
    "# Muestra la subcadena almacenada en 'frase_2' en orden inverso (de atrás hacia adelante).\n",
    "\n",
    "\n",
    "# Muestra una porción del texto original en orden inverso, desde el índice 7 hasta el índice 3 (sin incluir el 2).\n",
    "\n"
   ]
  },
  {
   "cell_type": "markdown",
   "id": "d8e63a64",
   "metadata": {},
   "source": [
    "### 2. Strings y sus métodos\n",
    "Salida por pantalla con `print()` • Uso de colecciones (listas, diccionarios, tuplas) • Métodos de cadenas"
   ]
  },
  {
   "cell_type": "code",
   "execution_count": null,
   "id": "a22f141d",
   "metadata": {},
   "outputs": [
    {
     "name": "stdout",
     "output_type": "stream",
     "text": [
      "SOY UN USUARIO CON PROBLEMAS\n",
      "soy un usuario con problemas\n",
      "['SoY', 'uN', 'uSuaRio', 'Con', 'PRoblEmaS']\n",
      "SoY uN uSuaRio Con PRoblEmaS\n",
      "-1\n",
      "Vamos a ver dinosaurios a ver haber.\n",
      "3\n",
      "True\n",
      "False\n"
     ]
    }
   ],
   "source": [
    "\n"
   ]
  },
  {
   "attachments": {
    "image.png": {
     "image/png": "[encoded data removed]"
    }
   },
   "cell_type": "markdown",
   "id": "20427db1",
   "metadata": {},
   "source": [
    "### Examen de mentira 05\n",
    "Completa, la salida tiene que ser similar a:\n",
    "\n",
    "![image.png](attachment:image.png)"
   ]
  },
  {
   "cell_type": "code",
   "execution_count": null,
   "id": "390384a5",
   "metadata": {},
   "outputs": [
    {
     "name": "stdout",
     "output_type": "stream",
     "text": [
      "4\n",
      "['He', 'estado', 'reflexionando.', 'Al', 'mal', 'tiempo,', 'nada', 'de', 'ponerle', 'buena', 'cara.', 'Ponle', 'cara', 'de', 'asco,', '¡cabréate!', 'Dile', \"'¿Cómo\", 'que', 'buena', 'cara?', '¿Es', 'que', 'tengo', 'que', 'alegrarme', 'porque', 'haga', 'un', 'frio', 'del', 'carajo', 'y', 'llueva?']\n",
      "195\n",
      "89 -1\n",
      "He estado reflexionando. Al mal tiempo, nada de ponerle buena cara. Ponle cara de enfado, ¡cabréate! Dile '¿Cómo que buena cara? ¿Es que tengo que alegrarme porque haga un frio del carajo y llueva?\n",
      "4\n",
      "True True\n"
     ]
    }
   ],
   "source": [
    "# Asignación de valor a una variable: se guarda un texto largo (string multilínea) en la variable 'frase'.\n",
    "# Las comillas entre paréntesis permiten dividir la cadena en varias líneas para facilitar la lectura.\n",
    "frase = (\"He estado reflexionando. Al mal tiempo, nada de ponerle buena cara. \"\n",
    "         \"Ponle cara de asco, ¡cabréate! Dile '¿Cómo que buena cara? ¿Es que tengo \"\n",
    "         \"que alegrarme porque haga un frio del carajo y llueva?\")\n",
    "\n",
    "# Cuenta cuántas veces aparece la palabra \"cara\" dentro del texto y muestra el resultado por pantalla.\n",
    "\n",
    "# Divide el texto en una lista de palabras separadas por espacios y muestra la lista resultante.\n",
    "\n",
    "# Muestra la longitud total del texto, es decir, el número de caracteres que contiene.\n",
    "\n",
    "\n",
    "# Busca la posición donde aparecen las palabras \"cabréate\" y \"feliz\" dentro del texto.\n",
    "# Si una palabra no existe, el método find devuelve -1.\n",
    "# Se convierten ambas posiciones a texto (str) y se muestran separadas por un espacio.\n",
    "\n",
    "\n",
    "# Reemplaza la palabra \"asco\" por \"enfado\" dentro del texto y muestra el resultado modificado.\n",
    "\n",
    "\n",
    "# Vuelve a contar cuántas veces aparece la palabra \"cara\" en el texto (para comprobar que no cambia).\n",
    "\n",
    "\n",
    "# Asignación de valor a una variable: se extrae una porción del texto (del índice 10 al 19) y se guarda en 'substring'.\n",
    "\n",
    "\n",
    "# Comprueba si la subcadena 'substring' empieza con la letra \"r\" y si termina con la letra \"a\".\n",
    "# Muestra ambos resultados (True o False) en la misma línea.\n",
    "\n"
   ]
  },
  {
   "cell_type": "markdown",
   "id": "675eebb1",
   "metadata": {},
   "source": [
    "### 4. Listas\n",
    "Salida por pantalla con `print()` • Uso de colecciones (listas, diccionarios, tuplas) • Operaciones con listas"
   ]
  },
  {
   "cell_type": "code",
   "execution_count": null,
   "id": "ee7a0070",
   "metadata": {},
   "outputs": [],
   "source": []
  },
  {
   "attachments": {
    "image-2.png": {
     "image/png": "[encoded data removed]"
    }
   },
   "cell_type": "markdown",
   "id": "8a32a56c",
   "metadata": {},
   "source": [
    "### Examen de Mentira 06\n",
    "Completa los pasos.\n",
    "\n",
    "![image-2.png](attachment:image-2.png)"
   ]
  },
  {
   "cell_type": "code",
   "execution_count": null,
   "id": "adcf3a1f",
   "metadata": {},
   "outputs": [
    {
     "name": "stdout",
     "output_type": "stream",
     "text": [
      "[{'nombre': 'Proyecto Alpha', 'sujetos': 15}, {'nombre': 'Proyecto Beta', 'sujetos': 10}, {'nombre': 'Proyecto Gamma', 'sujetos': 12}, {'nombre': 'Proyecto Neural', 'sujetos': 25}]\n",
      "{'nombre': 'Proyecto Alpha', 'sujetos': 15}\n",
      "15\n",
      "{'nombre': 'Proyecto Alpha', 'sujetos': 25}\n",
      "[{'sujetos': 25}, {'nombre': 'Proyecto Beta', 'subjects': 10}, {'nombre': 'Proyecto Gamma', 'sujetos': 12}, {'nombre': 'Proyecto Neural', 'sujetos': 25}]\n"
     ]
    }
   ],
   "source": [
    "# Asignación de valor a una variable: se crea una lista llamada 'proyectos_ia'\n",
    "# que contiene tres diccionarios. Cada diccionario representa un proyecto con su nombre\n",
    "# y el número de sujetos asociados.\n",
    "proyectos_ia = [\n",
    "    {\"nombre\": \"Proyecto Alpha\", \"sujetos\": 15},\n",
    "    {\"nombre\": \"Proyecto Beta\", \"sujetos\": 10},\n",
    "    {\"nombre\": \"Proyecto Gamma\", \"sujetos\": 12}\n",
    "]\n",
    "\n",
    "# Asignación de valor a una variable: se crea un nuevo diccionario con la información\n",
    "# de un cuarto proyecto y se guarda en la variable 'nuevo_proyecto'.\n",
    "\n",
    "\n",
    "# Añade el nuevo proyecto al final de la lista 'proyectos_ia' utilizando el método append().\n",
    "\n",
    "\n",
    "# Muestra toda la lista de proyectos actualizada por pantalla.\n",
    "\n",
    "\n",
    "# Muestra el primer elemento de la lista (el diccionario correspondiente al primer proyecto).\n",
    "\n",
    "\n",
    "# Muestra el valor asociado a la clave \"sujetos\" dentro del primer diccionario.\n",
    "\n",
    "\n",
    "# Modifica el valor de la clave \"sujetos\" en el primer proyecto y lo actualiza a 25.\n",
    "\n",
    "\n",
    "# Muestra nuevamente el primer diccionario para comprobar que el cambio se ha realizado correctamente.\n",
    "\n",
    "\n",
    "# Eliminar la clave \"nombre\"\n",
    "\n",
    "\n",
    "# Elimina y devuelve un elemento de la lista.\n",
    "\n",
    "\n",
    "# Muestra información por pantalla.\n",
    "\n"
   ]
  },
  {
   "cell_type": "markdown",
   "id": "f6ef57c8",
   "metadata": {},
   "source": [
    "## Parte III\n",
    "**Bloques de teoría y práctica.**"
   ]
  },
  {
   "cell_type": "markdown",
   "id": "1dc04488",
   "metadata": {},
   "source": [
    "**Contenidos del bloque:**\n",
    "- Control de Flujo\n",
    "- 1. Condicional if\n",
    "- 2. Condicional ternario\n",
    "- 3. Condicional Match\n",
    "- 4. Loop (bucle) for\n",
    "- 5. Loop while\n",
    "- 6. Break, continue, pass\n",
    "- 7. Función ZIP\n",
    "- 8. Min y Max\n",
    "- 9. Random"
   ]
  },
  {
   "cell_type": "markdown",
   "id": "aeb2a65e",
   "metadata": {},
   "source": [
    "### Control de Flujo\n",
    "Bloque de práctica y ejemplos."
   ]
  },
  {
   "cell_type": "markdown",
   "id": "9fbc8eda",
   "metadata": {},
   "source": [
    "### 1. Condicional if\n",
    "Salida por pantalla con `print()` • Condicionales `if/elif/else` • Uso de colecciones (listas, diccionarios, tuplas)"
   ]
  },
  {
   "cell_type": "code",
   "execution_count": null,
   "id": "60dc04db",
   "metadata": {},
   "outputs": [
    {
     "name": "stdout",
     "output_type": "stream",
     "text": [
      "¿Hay Rickcola?\n",
      "¡Sí! Aquí tiene su Rickcola.\n"
     ]
    }
   ],
   "source": [
    "\n"
   ]
  },
  {
   "cell_type": "markdown",
   "id": "3c2a74c7",
   "metadata": {},
   "source": [
    "### 2. Condicional ternario\n",
    "Salida por pantalla con `print()` • Condicionales `if/elif/else` • Uso de colecciones (listas, diccionarios, tuplas)"
   ]
  },
  {
   "cell_type": "code",
   "execution_count": null,
   "id": "0e3779eb",
   "metadata": {},
   "outputs": [
    {
     "name": "stdout",
     "output_type": "stream",
     "text": [
      "¡Eres un mago, Harry!\n"
     ]
    }
   ],
   "source": []
  },
  {
   "cell_type": "markdown",
   "id": "7c9d2494",
   "metadata": {},
   "source": [
    "### 3. Condicional Match\n",
    "Salida por pantalla con `print()` • Coincidencia de patrones `match` • Uso de colecciones (listas, diccionarios, tuplas)"
   ]
  },
  {
   "cell_type": "code",
   "execution_count": null,
   "id": "b844d670",
   "metadata": {},
   "outputs": [
    {
     "name": "stdout",
     "output_type": "stream",
     "text": [
      "Not found\n"
     ]
    }
   ],
   "source": []
  },
  {
   "cell_type": "markdown",
   "id": "a2d09a75",
   "metadata": {},
   "source": [
    "### # EXAMEN DE MENTIRA 07"
   ]
  },
  {
   "cell_type": "markdown",
   "id": "816a0bb8",
   "metadata": {},
   "source": [
    "### Completa las intrucciones"
   ]
  },
  {
   "cell_type": "code",
   "execution_count": null,
   "id": "17fc3eea",
   "metadata": {},
   "outputs": [],
   "source": [
    "# Solicita al usuario que introduzca sus años de experiencia.\n",
    "# La función input() devuelve un texto, por lo que se convierte a número entero con int().\n",
    "\n",
    "# Solicita al usuario si tiene conocimientos en Python.\n",
    "# Si la respuesta es \"Si\", la variable se guarda como True; en cualquier otro caso, será False. Usa un ternario.\n",
    "\n",
    "\n",
    "# Solicita al usuario si posee un certificado en Cloud Computing.\n",
    "# Se evalúa la respuesta de la misma forma, guardando True si el usuario responde \"Si\". Usa un ternario.\n",
    "\n",
    "\n",
    "# Solicita al usuario que introduzca el color de su pelo y guarda la respuesta como texto.\n",
    "\n"
   ]
  },
  {
   "cell_type": "markdown",
   "id": "37e91b17",
   "metadata": {},
   "source": [
    "Ahora, evalúa las opciones."
   ]
  },
  {
   "cell_type": "code",
   "execution_count": null,
   "id": "f49e5263",
   "metadata": {},
   "outputs": [
    {
     "name": "stdout",
     "output_type": "stream",
     "text": [
      "Oferta: Puesto Senior.\n"
     ]
    }
   ],
   "source": [
    "# Estructura condicional que evalúa las distintas situaciones del candidato\n",
    "# según sus años de experiencia, conocimientos y certificados.\n",
    "\n",
    "    # Si el candidato tiene más de 5 años de experiencia y sabe Python,\n",
    "    # se le ofrece el puesto de nivel Senior.\n",
    "\n",
    "\n",
    "\n",
    "    # Si el candidato tiene al menos 3 años de experiencia y conocimientos en Python,\n",
    "    # se le ofrece el puesto de Desarrollador.\n",
    "\n",
    "\n",
    "    # Condicional anidado: si además posee un certificado en Cloud Computing,\n",
    "    # se le ofrece un bono adicional.\n",
    "\n",
    "\n",
    "\n",
    "\n",
    "    # Si el candidato tiene entre 1 y 3 años de experiencia,\n",
    "    # sabe Python pero no tiene certificado Cloud, se le ofrece un puesto Junior.\n",
    "\n",
    "\n",
    "\n",
    "    # Si no cumple con ninguno de los requisitos anteriores,\n",
    "    # se utiliza una estructura match para ofrecer un puesto según el color de pelo.\n",
    "\n",
    "\n",
    "            # Si el color de pelo es \"Rubio\", se ofrece el puesto de Becario Rubio.\n",
    "\n",
    "\n",
    "            # Si el color de pelo es \"Moreno\", se ofrece el puesto de Becario Moreno.\n",
    "\n",
    "\n",
    "            # Si el color de pelo es \"Castaño\", se ofrece el puesto de Becario Castaño.\n",
    "\n",
    "\n",
    "            # Si el color de pelo no coincide con ninguno de los anteriores,\n",
    "            # se ofrece el puesto genérico de Becario Calvo.\n",
    "\n",
    "            "
   ]
  },
  {
   "cell_type": "markdown",
   "id": "825fd5b7",
   "metadata": {},
   "source": [
    "### 4. Loop (bucle) for\n",
    "Salida por pantalla con `print()` • Bucles `for` y/o `while` • Uso de colecciones (listas, diccionarios, tuplas)"
   ]
  },
  {
   "cell_type": "code",
   "execution_count": null,
   "id": "0292233c",
   "metadata": {},
   "outputs": [
    {
     "name": "stdout",
     "output_type": "stream",
     "text": [
      "Villanos: \n",
      "\n",
      "- Maléfica\n",
      "- Scar\n",
      "- Úrsula\n",
      "- Gastón\n"
     ]
    }
   ],
   "source": []
  },
  {
   "cell_type": "markdown",
   "id": "35c5532b",
   "metadata": {},
   "source": [
    "### # Usando contador con enumerate\n",
    "Salida por pantalla con `print()` • Bucles `for` y/o `while` • Uso de colecciones (listas, diccionarios, tuplas)"
   ]
  },
  {
   "cell_type": "code",
   "execution_count": null,
   "id": "217a7ca5",
   "metadata": {},
   "outputs": [
    {
     "name": "stdout",
     "output_type": "stream",
     "text": [
      "\n",
      "Villanos numerados: \n",
      "\n",
      "1 - Maléfica\n",
      "2 - Scar\n",
      "3 - Úrsula\n",
      "4 - Gastón\n"
     ]
    }
   ],
   "source": []
  },
  {
   "cell_type": "markdown",
   "id": "9e072749",
   "metadata": {},
   "source": [
    "### # Usando range y len para acceder al índice\n",
    "Salida por pantalla con `print()` • Bucles `for` y/o `while` • Uso de colecciones (listas, diccionarios, tuplas)"
   ]
  },
  {
   "cell_type": "code",
   "execution_count": null,
   "id": "9d3a566a",
   "metadata": {},
   "outputs": [
    {
     "name": "stdout",
     "output_type": "stream",
     "text": [
      "Bebidas disponibles en la cantina:\n",
      "1. Té de Dune\n",
      "2. Café Hutt\n",
      "3. Leche de Bantha\n",
      "4. Agua Espacial\n"
     ]
    }
   ],
   "source": []
  },
  {
   "cell_type": "markdown",
   "id": "6f1448f7",
   "metadata": {},
   "source": [
    "### # Uso de enumerate\n",
    "Salida por pantalla con `print()` • Uso de colecciones (listas, diccionarios, tuplas)"
   ]
  },
  {
   "cell_type": "code",
   "execution_count": null,
   "id": "eaead8db",
   "metadata": {},
   "outputs": [
    {
     "name": "stdout",
     "output_type": "stream",
     "text": [
      "[(5, 'A'), (6, 'g'), (7, 'u'), (8, 'a'), (9, 'c'), (10, 'a'), (11, 't'), (12, 'e')]\n"
     ]
    }
   ],
   "source": []
  },
  {
   "cell_type": "markdown",
   "id": "928f8aa9",
   "metadata": {},
   "source": [
    "### # Uso de range\n",
    "Salida por pantalla con `print()` • Uso de colecciones (listas, diccionarios, tuplas)"
   ]
  },
  {
   "cell_type": "code",
   "execution_count": null,
   "id": "bce6f6fd",
   "metadata": {},
   "outputs": [
    {
     "name": "stdout",
     "output_type": "stream",
     "text": [
      "[4, 9, 14, 19]\n"
     ]
    }
   ],
   "source": []
  },
  {
   "cell_type": "markdown",
   "id": "3c75fdb3",
   "metadata": {},
   "source": [
    "### # 5. Loop while\n",
    "Salida por pantalla con `print()` • Entrada interactiva con `input()` • Bucles `for` y/o `while` • Uso de colecciones (listas, diccionarios, tuplas) • Operaciones con listas • Métodos de cadenas"
   ]
  },
  {
   "cell_type": "code",
   "execution_count": null,
   "id": "67c09fc6",
   "metadata": {},
   "outputs": [
    {
     "name": "stdout",
     "output_type": "stream",
     "text": [
      "Has pedido:\n",
      "- Agua\n",
      "- Cola\n"
     ]
    }
   ],
   "source": []
  },
  {
   "cell_type": "markdown",
   "id": "a52daaa0",
   "metadata": {},
   "source": [
    "### 6. Break, continue, pass\n",
    "Salida por pantalla con `print()` • Condicionales `if/elif/else` • Bucles `for` y/o `while` • Uso de colecciones (listas, diccionarios, tuplas)"
   ]
  },
  {
   "cell_type": "code",
   "execution_count": null,
   "id": "bdea45ec",
   "metadata": {},
   "outputs": [
    {
     "name": "stdout",
     "output_type": "stream",
     "text": [
      "0\n",
      "1\n",
      "3\n",
      "4\n",
      "6\n",
      "7\n"
     ]
    }
   ],
   "source": []
  },
  {
   "cell_type": "markdown",
   "id": "ee030582",
   "metadata": {},
   "source": [
    "### EXAMEN DE MENTIRA 08\n"
   ]
  },
  {
   "cell_type": "markdown",
   "id": "9d9e5798",
   "metadata": {},
   "source": [
    "### Lista de atracciones disponibles en PortAventura\n"
   ]
  },
  {
   "cell_type": "code",
   "execution_count": 37,
   "id": "444c9ed0",
   "metadata": {},
   "outputs": [],
   "source": [
    "# Crea una lista de atracciones de Port Aventura: \"Shambhala\", \"Dragon Khan\", \"Furius Baco\", \"Tutuki Splash\", \"Stampida\"\n",
    "atracciones = [\"Shambhala\", \"Dragon Khan\", \"Furius Baco\", \"Tutuki Splash\", \"Stampida\"]"
   ]
  },
  {
   "attachments": {
    "image.png": {
     "image/png": "[encoded data removed]"
    }
   },
   "cell_type": "markdown",
   "id": "9a8e137b",
   "metadata": {},
   "source": [
    "### # Índice para recorrer la lista\n",
    "![image.png](attachment:image.png)"
   ]
  },
  {
   "cell_type": "code",
   "execution_count": null,
   "id": "ed943b9d",
   "metadata": {},
   "outputs": [
    {
     "name": "stdout",
     "output_type": "stream",
     "text": [
      "¡Bienvenido a PortAventura!\n",
      "Estas son las atracciones disponibles:\n",
      "\n"
     ]
    }
   ],
   "source": [
    "# Asignación de valor a una variable: se inicializa la variable 'indice' con valor 0.\n",
    "# Esta variable servirá como contador o punto de inicio para recorrer la lista de atracciones.\n",
    "\n",
    "\n",
    "# Asignación de valor a una variable: se calcula la longitud de la lista 'atracciones'\n",
    "# utilizando la función len(), y se guarda en 'total_atracciones'.\n",
    "# Esto permite saber cuántas atracciones hay en total.\n",
    "\n",
    "\n",
    "# Muestra un mensaje de bienvenida por pantalla al usuario.\n",
    "print(\"¡Bienvenido a PortAventura!\")\n",
    "\n",
    "# Muestra un mensaje con el listado de atracciones disponibles.\n",
    "# El carácter '\\n' produce un salto de línea para mejorar la presentación del texto.\n",
    "print(\"Estas son las atracciones disponibles:\\n\")\n"
   ]
  },
  {
   "attachments": {
    "image.png": {
     "image/png": "[encoded data removed]"
    }
   },
   "cell_type": "markdown",
   "id": "5f208b9d",
   "metadata": {},
   "source": [
    "### Bucle para recorrer las atracciones automáticamente\n",
    "\n",
    "![image.png](attachment:image.png)"
   ]
  },
  {
   "cell_type": "code",
   "execution_count": null,
   "id": "aae3f504",
   "metadata": {},
   "outputs": [
    {
     "name": "stdout",
     "output_type": "stream",
     "text": [
      "La próxima atracción es: Shambhala\n",
      "\n",
      "¡Disfruta de Shambhala!\n",
      "¡Continuemos!\n",
      "La próxima atracción es: Dragon Khan\n",
      "\n",
      "La próxima atracción es: Furius Baco\n",
      "\n",
      "La próxima atracción es: Tutuki Splash\n",
      "\n",
      "¡Disfruta de Tutuki Splash!\n",
      "Gracias por visitar PortAventura. ¡Esperamos verte pronto!\n"
     ]
    }
   ],
   "source": [
    "# Bucle while que se repetirá mientras el valor de 'indice' sea menor que el número total de atracciones.\n",
    "# Este bucle permite recorrer todas las atracciones una por una.\n",
    "\n",
    "\n",
    "    # Muestra por pantalla el nombre de la atracción actual utilizando el valor del índice como posición en la lista.\n",
    "\n",
    "\n",
    "    # Solicita al usuario si quiere subir a la atracción.\n",
    "    # Si la respuesta es \"si\", la variable 'respuesta' será True; en caso contrario, será False.\n",
    "\n",
    "\n",
    "    # Estructura condicional que evalúa la respuesta del usuario.\n",
    "\n",
    "        # Si el usuario quiere subir, se muestra un mensaje indicando que va a disfrutar de la atracción.\n",
    "        \n",
    "        \n",
    "        # Si el usuario decide no subir, se incrementa el índice para pasar a la siguiente atracción.\n",
    "\n",
    "        # Se utiliza la instrucción 'continue' para saltar directamente a la siguiente iteración del bucle.\n",
    "\n",
    "\n",
    "    # Solicita al usuario si desea salir del parque.\n",
    "    # Si responde \"si\", la variable 'salir' será True; en caso contrario, será False.\n",
    "\n",
    "\n",
    "    # Estructura condicional que evalúa si el usuario quiere salir del parque.\n",
    "\n",
    "        # Si el usuario quiere salir, se rompe el bucle con 'break', finalizando la ejecución.\n",
    "\n",
    "\n",
    "        # Si el usuario no quiere salir, se muestra un mensaje para continuar el recorrido.\n",
    "\n",
    "\n",
    "    # Incrementa el valor del índice en 1 para pasar a la siguiente atracción en la lista.\n",
    "\n",
    "\n",
    "# Mensaje final que se muestra una vez que el bucle ha terminado, despidiendo al visitante.\n",
    "print(\"Gracias por visitar PortAventura. ¡Esperamos verte pronto!\")\n"
   ]
  },
  {
   "cell_type": "markdown",
   "id": "2cfcc21c",
   "metadata": {},
   "source": [
    "### 7. Función ZIP\n"
   ]
  },
  {
   "cell_type": "code",
   "execution_count": null,
   "id": "9a0f91fb",
   "metadata": {},
   "outputs": [
    {
     "name": "stdout",
     "output_type": "stream",
     "text": [
      "Carlota: 9\n",
      "Alberto: 10\n",
      "Sabrina: 9.5\n",
      "Diego: 9.5\n"
     ]
    }
   ],
   "source": []
  },
  {
   "cell_type": "markdown",
   "id": "ea3c3871",
   "metadata": {},
   "source": [
    "### Podemos crear de esta forma una lista de tuplas\n"
   ]
  },
  {
   "cell_type": "code",
   "execution_count": null,
   "id": "4d839ffc",
   "metadata": {},
   "outputs": [
    {
     "name": "stdout",
     "output_type": "stream",
     "text": [
      "[('Carlota', 9), ('Alberto', 10), ('Sabrina', 9.5), ('Diego', 9.5)]\n"
     ]
    }
   ],
   "source": []
  },
  {
   "cell_type": "markdown",
   "id": "c44c6aee",
   "metadata": {},
   "source": [
    "### 8. Min y Max\n"
   ]
  },
  {
   "cell_type": "code",
   "execution_count": null,
   "id": "f94a410e",
   "metadata": {},
   "outputs": [
    {
     "name": "stdout",
     "output_type": "stream",
     "text": [
      "La ciudad con más habitantes tiene: 172045\n",
      "Alfabéticamente, Castro Urdiales es la primera.\n",
      "Torrelavega\n"
     ]
    }
   ],
   "source": []
  },
  {
   "cell_type": "markdown",
   "id": "d0ce1b75",
   "metadata": {},
   "source": [
    "### Invertir diccionario\n",
    "Salida por pantalla con `print()` • Bucles `for` y/o `while` • Uso de colecciones (listas, diccionarios, tuplas) • Funciones `max()` y `min()`"
   ]
  },
  {
   "cell_type": "code",
   "execution_count": null,
   "id": "f652a994",
   "metadata": {},
   "outputs": [
    {
     "name": "stdout",
     "output_type": "stream",
     "text": [
      "La ciudad más poblada es: Santander\n"
     ]
    }
   ],
   "source": []
  },
  {
   "cell_type": "markdown",
   "id": "d6f56994",
   "metadata": {},
   "source": [
    "### 9. Random\n",
    "Salida por pantalla con `print()` • Importación de módulos • Uso de colecciones (listas, diccionarios, tuplas) • Generación aleatoria (`random`)"
   ]
  },
  {
   "cell_type": "code",
   "execution_count": null,
   "id": "fde221ea",
   "metadata": {},
   "outputs": [
    {
     "name": "stdout",
     "output_type": "stream",
     "text": [
      "10\n",
      "5.148935835297594\n",
      "0.10995698810951027\n",
      "1\n",
      "[1, 3, 6, 4, 2, 5]\n"
     ]
    }
   ],
   "source": []
  },
  {
   "cell_type": "markdown",
   "id": "baa81b84",
   "metadata": {},
   "source": [
    "## Parte IV\n",
    "**Bloques de teoría y práctica.**"
   ]
  },
  {
   "cell_type": "markdown",
   "id": "8670cf5a",
   "metadata": {},
   "source": [
    "**Contenidos del bloque:**\n",
    "- 1. Documentación\n",
    "- 2. Funciones\n",
    "- 3. Funciones dinámicas\n",
    "- 4. *Args"
   ]
  },
  {
   "cell_type": "markdown",
   "id": "4becf407",
   "metadata": {},
   "source": [
    "### 1. Documentación\n",
    "Uso de colecciones (listas, diccionarios, tuplas)"
   ]
  },
  {
   "cell_type": "code",
   "execution_count": null,
   "id": "ef863a7f",
   "metadata": {},
   "outputs": [],
   "source": []
  },
  {
   "cell_type": "markdown",
   "id": "572c3592",
   "metadata": {},
   "source": [
    "### isdisjoint()\n",
    "Salida por pantalla con `print()` • Uso de colecciones (listas, diccionarios, tuplas) • Conjuntos (`set`)"
   ]
  },
  {
   "cell_type": "code",
   "execution_count": null,
   "id": "882622c0",
   "metadata": {},
   "outputs": [
    {
     "name": "stdout",
     "output_type": "stream",
     "text": [
      "True\n"
     ]
    }
   ],
   "source": []
  },
  {
   "cell_type": "code",
   "execution_count": null,
   "id": "e31c418b",
   "metadata": {},
   "outputs": [
    {
     "name": "stdout",
     "output_type": "stream",
     "text": [
      ",:_#,,,,,,:::____##PIA\n",
      "PIA\n",
      "['mango', 'pera', 'melón', 'naranja', 'kiwi']\n",
      "4\n",
      "[1, 4, 9]\n"
     ]
    }
   ],
   "source": [
    "\n"
   ]
  },
  {
   "cell_type": "markdown",
   "id": "31316ff1",
   "metadata": {},
   "source": [
    "### 2. Funciones\n",
    "Salida por pantalla con `print()` • Condicionales `if/elif/else` • Definición de funciones • Uso de colecciones (listas, diccionarios, tuplas)"
   ]
  },
  {
   "cell_type": "code",
   "execution_count": null,
   "id": "93ffb7f9",
   "metadata": {},
   "outputs": [
    {
     "name": "stdout",
     "output_type": "stream",
     "text": [
      "¡Hola Toñito\n",
      "No puedes pasar!\n"
     ]
    }
   ],
   "source": [
    "\n"
   ]
  },
  {
   "cell_type": "markdown",
   "id": "62790c97",
   "metadata": {},
   "source": [
    "### 3. Funciones dinámicas\n",
    "Las funciones dinámicas son aquellas que pueden adaptarse a diferentes datos o situaciones mediante el uso de parámetros.\n",
    "A diferencia de una función fija (que siempre hace lo mismo con los mismos valores), una función dinámica recibe datos externos como argumentos y ejecuta su lógica en función de ellos.\n",
    "\n",
    "Esto permite reutilizar código en distintos contextos sin tener que escribirlo varias veces.\n",
    "Por ejemplo, una misma función puede calcular el precio más alto de una carta de cafés, de tés o de cualquier otro producto, simplemente recibiendo un diccionario distinto como parámetro."
   ]
  },
  {
   "cell_type": "code",
   "execution_count": null,
   "id": "ca9eb916",
   "metadata": {},
   "outputs": [],
   "source": [
    "\n"
   ]
  },
  {
   "cell_type": "markdown",
   "id": "0c39e185",
   "metadata": {},
   "source": [
    "### 4. *Args\n",
    "El parámetro *args (abreviatura de arguments) se utiliza en las funciones para recibir un número variable de argumentos.\n",
    "Esto significa que una función puede ser llamada con cualquier cantidad de valores adicionales, y todos ellos se agrupan automáticamente dentro de una tupla."
   ]
  },
  {
   "cell_type": "code",
   "execution_count": null,
   "id": "8c2d16d7",
   "metadata": {},
   "outputs": [
    {
     "name": "stdout",
     "output_type": "stream",
     "text": [
      "Nombre: Toñito\n",
      "Datos en tupla: (28, 'Cantabria', 'Programador')\n",
      "¿Cuántos datos tenemos? 3 datos.\n",
      "Dato 1: 28\n",
      "Dato 2: Cantabria\n",
      "Dato 3: Programador\n"
     ]
    }
   ],
   "source": [
    "\n"
   ]
  },
  {
   "cell_type": "markdown",
   "id": "9b553bc8",
   "metadata": {},
   "source": [
    "### Examen de mentira 09\n"
   ]
  },
  {
   "cell_type": "code",
   "execution_count": null,
   "id": "89e8c64c",
   "metadata": {},
   "outputs": [],
   "source": [
    "# Muestra un mensaje inicial por pantalla presentando el programa.\n",
    "print(\"Soy Mr. %, ¿Qué quieres hacer?\")\n",
    "\n",
    "# Solicita al usuario que elija una opción (1 o 2) y convierte la respuesta en un número entero.\n",
    "\n",
    "# Solicita al usuario que introduzca el número total de estudiantes y guarda la respuesta como entero.\n",
    "\n",
    "\n",
    "# Solicita al usuario que introduzca cuántos estudiantes han aprobado y guarda la respuesta como entero.\n",
    "\n",
    "\n",
    "\n",
    "# Define una función llamada 'calculo_aprobados' que recibe dos parámetros: total y aprobados.\n",
    "# Calcula el porcentaje de aprobados y devuelve el resultado.\n",
    "\n",
    "\n",
    "\n",
    "# Define una función llamada 'calculo_suspensos' que también recibe dos parámetros.\n",
    "# Calcula el porcentaje de suspensos restando al 100% el porcentaje de aprobados.\n",
    "\n",
    "\n",
    "\n",
    "# Estructura condicional que determina qué cálculo realizar según la opción elegida por el usuario.\n",
    "if opcion == 1:\n",
    "    # Si el usuario elige la opción 1, se calcula el porcentaje de aprobados.\n",
    "\n",
    "    # Muestra por pantalla el porcentaje calculado con formato adecuado.\n",
    "\n",
    "\n",
    "elif opcion == 2:\n",
    "    # Si el usuario elige la opción 2, se calcula el porcentaje de suspensos.\n",
    "\n",
    "    # Muestra por pantalla el porcentaje de suspensos.\n",
    "\n",
    "\n"
   ]
  }
 ],
 "metadata": {
  "kernelspec": {
   "display_name": "PIA_Prueba",
   "language": "python",
   "name": "python3"
  },
  "language_info": {
   "codemirror_mode": {
    "name": "ipython",
    "version": 3
   },
   "file_extension": ".py",
   "mimetype": "text/x-python",
   "name": "python",
   "nbconvert_exporter": "python",
   "pygments_lexer": "ipython3",
   "version": "3.12.11"
  }
 },
 "nbformat": 4,
 "nbformat_minor": 5
}
